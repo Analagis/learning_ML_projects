{
 "cells": [
  {
   "cell_type": "code",
   "execution_count": 1,
   "id": "d71bd4de",
   "metadata": {},
   "outputs": [],
   "source": [
    "import pandas as pd\n",
    "import numpy as np\n",
    "from collections import Counter\n",
    "from sklearn.preprocessing import PolynomialFeatures\n",
    "from sklearn.linear_model import LinearRegression\n",
    "from sklearn.linear_model import Ridge\n",
    "from sklearn.linear_model import Lasso\n",
    "from sklearn.linear_model import ElasticNet\n",
    "from sklearn.preprocessing import MinMaxScaler\n",
    "from sklearn.preprocessing import StandardScaler\n",
    "\n",
    "#custom lib\n",
    "import lm_funcs\n",
    "from importlib import reload\n",
    "reload(lm_funcs)\n",
    "from lm_funcs import FeatureCreating\n",
    "from lm_funcs import ModelsEval\n",
    "from lm_funcs import S21LinearRegression\n",
    "from lm_funcs import S21RidgeRegression\n",
    "from lm_funcs import S21LassoRegression\n",
    "from lm_funcs import S21ElasticNetRegression\n",
    "from lm_funcs import S21MinMaxScaler\n",
    "from lm_funcs import S21StandardScaler"
   ]
  },
  {
   "cell_type": "markdown",
   "id": "28e778cb",
   "metadata": {},
   "source": [
    "# Data loading"
   ]
  },
  {
   "cell_type": "code",
   "execution_count": 2,
   "id": "8acb2795",
   "metadata": {},
   "outputs": [],
   "source": [
    "df_train = pd.read_json(f\"data/train.json\")\n",
    "df_test = pd.read_json(f\"data/test.json\")"
   ]
  },
  {
   "cell_type": "markdown",
   "id": "11f79e6d",
   "metadata": {},
   "source": [
    "# Feature creation"
   ]
  },
  {
   "cell_type": "markdown",
   "id": "32aae0fb",
   "metadata": {},
   "source": [
    "##### dont use interest_level in model due to absence in test data"
   ]
  },
  {
   "cell_type": "code",
   "execution_count": 3,
   "id": "57170f4a",
   "metadata": {},
   "outputs": [],
   "source": [
    "df_train['interest_level'] = df_train['interest_level'].map({'low': 0, 'medium': 1, 'high': 2})"
   ]
  },
  {
   "cell_type": "code",
   "execution_count": 4,
   "id": "ddc4c04c",
   "metadata": {},
   "outputs": [
    {
     "data": {
      "text/plain": [
       "4         [Dining Room, Pre-War, Laundry in Building, Di...\n",
       "6         [Doorman, Elevator, Laundry in Building, Dishw...\n",
       "9         [Doorman, Elevator, Laundry in Building, Laund...\n",
       "10                                                       []\n",
       "15        [Doorman, Elevator, Fitness Center, Laundry in...\n",
       "                                ...                        \n",
       "124000              [Elevator, Dishwasher, Hardwood Floors]\n",
       "124002    [Common Outdoor Space, Cats Allowed, Dogs Allo...\n",
       "124004    [Dining Room, Elevator, Pre-War, Laundry in Bu...\n",
       "124008    [Pre-War, Laundry in Unit, Dishwasher, No Fee,...\n",
       "124009    [Dining Room, Elevator, Laundry in Building, D...\n",
       "Name: features, Length: 49352, dtype: object"
      ]
     },
     "execution_count": 4,
     "metadata": {},
     "output_type": "execute_result"
    }
   ],
   "source": [
    "df_train['features']"
   ]
  },
  {
   "cell_type": "code",
   "execution_count": 5,
   "id": "67719666",
   "metadata": {},
   "outputs": [],
   "source": [
    "df_train['features'] = FeatureCreating.column_clearing(df_train['features'])"
   ]
  },
  {
   "cell_type": "code",
   "execution_count": 6,
   "id": "740e9be6",
   "metadata": {},
   "outputs": [
    {
     "data": {
      "text/plain": [
       "4         DiningRoom,Pre-War,LaundryinBuilding,Dishwashe...\n",
       "6         Doorman,Elevator,LaundryinBuilding,Dishwasher,...\n",
       "9         Doorman,Elevator,LaundryinBuilding,LaundryinUn...\n",
       "10                                                         \n",
       "15         Doorman,Elevator,FitnessCenter,LaundryinBuilding\n",
       "                                ...                        \n",
       "124000                   Elevator,Dishwasher,HardwoodFloors\n",
       "124002    CommonOutdoorSpace,CatsAllowed,DogsAllowed,NoF...\n",
       "124004    DiningRoom,Elevator,Pre-War,LaundryinBuilding,...\n",
       "124008    Pre-War,LaundryinUnit,Dishwasher,NoFee,Outdoor...\n",
       "124009    DiningRoom,Elevator,LaundryinBuilding,Dishwash...\n",
       "Name: features, Length: 49352, dtype: object"
      ]
     },
     "execution_count": 6,
     "metadata": {},
     "output_type": "execute_result"
    }
   ],
   "source": [
    "df_train['features']"
   ]
  },
  {
   "cell_type": "code",
   "execution_count": 7,
   "id": "d454698d",
   "metadata": {},
   "outputs": [],
   "source": [
    "all_features = []\n",
    "for index, row in df_train.iterrows():\n",
    "    features = row['features']\n",
    "    if len(features) > 0:\n",
    "        all_features.extend(features.split(\",\"))"
   ]
  },
  {
   "cell_type": "code",
   "execution_count": 8,
   "id": "7721e2ca",
   "metadata": {},
   "outputs": [
    {
     "name": "stdout",
     "output_type": "stream",
     "text": [
      "Number of unique values:1546\n"
     ]
    }
   ],
   "source": [
    "print(f\"Number of unique values:{len(set(all_features))}\")"
   ]
  },
  {
   "cell_type": "code",
   "execution_count": 9,
   "id": "0d428094",
   "metadata": {},
   "outputs": [
    {
     "name": "stdout",
     "output_type": "stream",
     "text": [
      "The 20 most popular feature with counts:\n"
     ]
    },
    {
     "data": {
      "text/plain": [
       "[('Elevator', 25915),\n",
       " ('CatsAllowed', 23540),\n",
       " ('HardwoodFloors', 23527),\n",
       " ('DogsAllowed', 22035),\n",
       " ('Doorman', 20898),\n",
       " ('Dishwasher', 20426),\n",
       " ('NoFee', 18062),\n",
       " ('LaundryinBuilding', 16344),\n",
       " ('FitnessCenter', 13252),\n",
       " ('Pre-War', 9148),\n",
       " ('LaundryinUnit', 8738),\n",
       " ('RoofDeck', 6542),\n",
       " ('OutdoorSpace', 5268),\n",
       " ('DiningRoom', 5136),\n",
       " ('HighSpeedInternet', 4299),\n",
       " ('Balcony', 2992),\n",
       " ('SwimmingPool', 2730),\n",
       " ('LaundryInBuilding', 2593),\n",
       " ('NewConstruction', 2559),\n",
       " ('Terrace', 2283)]"
      ]
     },
     "execution_count": 9,
     "metadata": {},
     "output_type": "execute_result"
    }
   ],
   "source": [
    "print(\"The 20 most popular feature with counts:\")\n",
    "Counter(all_features).most_common(20)"
   ]
  },
  {
   "cell_type": "code",
   "execution_count": 10,
   "id": "8a603973",
   "metadata": {},
   "outputs": [],
   "source": [
    "top_20_features = [feature for feature, count in Counter(all_features).most_common(20)]"
   ]
  },
  {
   "cell_type": "code",
   "execution_count": 11,
   "id": "e9521484",
   "metadata": {},
   "outputs": [],
   "source": [
    "FeatureCreating.columns_creating(top_20_features, df_train)"
   ]
  },
  {
   "cell_type": "markdown",
   "id": "86c1c5e9",
   "metadata": {},
   "source": [
    "##### repeat same for test part"
   ]
  },
  {
   "cell_type": "code",
   "execution_count": 12,
   "id": "f313a1e5",
   "metadata": {},
   "outputs": [],
   "source": [
    "df_test['features'] = FeatureCreating.column_clearing(df_test['features'])\n",
    "FeatureCreating.columns_creating(top_20_features, df_test)"
   ]
  },
  {
   "cell_type": "markdown",
   "id": "93ba7256",
   "metadata": {},
   "source": [
    "##### split X and y with choosing features for X"
   ]
  },
  {
   "cell_type": "code",
   "execution_count": 13,
   "id": "12d1120d",
   "metadata": {},
   "outputs": [],
   "source": [
    "feature_list = top_20_features + ['bathrooms', 'bedrooms']\n",
    "X_train = df_train[feature_list]\n",
    "y_train = df_train[['price']]\n",
    "X_test = df_test[feature_list]\n",
    "y_test = df_test[['price']]"
   ]
  },
  {
   "cell_type": "markdown",
   "id": "70b1b534",
   "metadata": {},
   "source": [
    "# Models implementation — Linear regression"
   ]
  },
  {
   "cell_type": "markdown",
   "id": "6b09fe50",
   "metadata": {},
   "source": [
    "##### initializing class with evaluation dfs"
   ]
  },
  {
   "cell_type": "code",
   "execution_count": 14,
   "id": "9fb7d93a",
   "metadata": {},
   "outputs": [],
   "source": [
    "models_eval = ModelsEval()"
   ]
  },
  {
   "cell_type": "markdown",
   "id": "d76864cd",
   "metadata": {},
   "source": [
    "##### fit models"
   ]
  },
  {
   "cell_type": "code",
   "execution_count": 15,
   "id": "74d66992",
   "metadata": {},
   "outputs": [],
   "source": [
    "reg = S21LinearRegression().fit(X_train, y_train)\n",
    "models_eval.insert_eval_in_DF(\"s21_linear_regression_batch\", y_train, reg.predict(X_train), y_test, reg.predict(X_test))"
   ]
  },
  {
   "cell_type": "code",
   "execution_count": 16,
   "id": "9674f055",
   "metadata": {},
   "outputs": [],
   "source": [
    "reg = S21LinearRegression(optimizer=lm_funcs.BGDOptimizer()).fit(X_train, y_train)\n",
    "models_eval.insert_eval_in_DF(\"s21_linear_regression_sgd\", y_train, reg.predict(X_train), y_test, reg.predict(X_test))"
   ]
  },
  {
   "cell_type": "code",
   "execution_count": 17,
   "id": "9b853c45",
   "metadata": {},
   "outputs": [],
   "source": [
    "reg = S21LinearRegression(optimizer=lm_funcs.NormalEquationOptimizer()).fit(X_train, y_train)\n",
    "models_eval.insert_eval_in_DF(\"s21_linear_regression_normal\", y_train, reg.predict(X_train), y_test, reg.predict(X_test))"
   ]
  },
  {
   "cell_type": "code",
   "execution_count": 18,
   "id": "9f3dc6b0",
   "metadata": {},
   "outputs": [],
   "source": [
    "reg = LinearRegression().fit(X_train, y_train)\n",
    "models_eval.insert_eval_in_DF(\"linear_regression\", y_train, reg.predict(X_train), y_test, reg.predict(X_test))"
   ]
  },
  {
   "cell_type": "code",
   "execution_count": 19,
   "id": "cbbed011",
   "metadata": {},
   "outputs": [
    {
     "name": "stdout",
     "output_type": "stream",
     "text": [
      "MAE Results:\n",
      "                          model  train   test\n",
      "0   s21_linear_regression_batch 1167.7 1092.1\n",
      "1     s21_linear_regression_sgd 1167.7 1092.1\n",
      "2  s21_linear_regression_normal 1155.1 1085.6\n",
      "3             linear_regression 1155.1 1085.6\n",
      "\n",
      "RMSE Results:\n",
      "                          model   train   test\n",
      "0   s21_linear_regression_batch 22034.7 9644.6\n",
      "1     s21_linear_regression_sgd 22034.7 9644.6\n",
      "2  s21_linear_regression_normal 21995.1 9618.8\n",
      "3             linear_regression 21995.1 9618.8\n",
      "\n",
      "R2 Results (in %):\n",
      "                          model  train  test\n",
      "0   s21_linear_regression_batch    0.3   1.4\n",
      "1     s21_linear_regression_sgd    0.3   1.4\n",
      "2  s21_linear_regression_normal    0.6   1.9\n",
      "3             linear_regression    0.6   1.9\n"
     ]
    }
   ],
   "source": [
    "models_eval.show_results()"
   ]
  },
  {
   "cell_type": "markdown",
   "id": "995b7245",
   "metadata": {},
   "source": [
    "# Regularized models implementation — Ridge, Lasso, ElasticNet"
   ]
  },
  {
   "cell_type": "code",
   "execution_count": 20,
   "id": "43df5811",
   "metadata": {},
   "outputs": [],
   "source": [
    "reg = S21RidgeRegression().fit(X_train, y_train)\n",
    "models_eval.insert_eval_in_DF(\"s21_ridge\", y_train, reg.predict(X_train), y_test, reg.predict(X_test))\n",
    "reg = S21RidgeRegression(optimizer=lm_funcs.NormalEquationOptimizer()).fit(X_train, y_train)\n",
    "models_eval.insert_eval_in_DF(\"s21_ridge_normal\", y_train, reg.predict(X_train), y_test, reg.predict(X_test))\n",
    "reg = S21LassoRegression().fit(X_train, y_train)\n",
    "models_eval.insert_eval_in_DF(\"s21_lasso\", y_train, reg.predict(X_train), y_test, reg.predict(X_test))\n",
    "reg = S21ElasticNetRegression().fit(X_train, y_train)\n",
    "models_eval.insert_eval_in_DF(\"s21_elastic_net\", y_train, reg.predict(X_train), y_test, reg.predict(X_test))"
   ]
  },
  {
   "cell_type": "code",
   "execution_count": 21,
   "id": "71f09eba",
   "metadata": {},
   "outputs": [],
   "source": [
    "reg = Ridge().fit(X_train, y_train)\n",
    "models_eval.insert_eval_in_DF(\"ridge\", y_train, reg.predict(X_train), y_test, reg.predict(X_test))\n",
    "reg = Lasso().fit(X_train, y_train)\n",
    "models_eval.insert_eval_in_DF(\"lasso\", y_train, reg.predict(X_train), y_test, reg.predict(X_test))\n",
    "reg = ElasticNet().fit(X_train, y_train)\n",
    "models_eval.insert_eval_in_DF(\"elastic_net\", y_train, reg.predict(X_train), y_test, reg.predict(X_test))"
   ]
  },
  {
   "cell_type": "code",
   "execution_count": 22,
   "id": "246c7e6b",
   "metadata": {},
   "outputs": [
    {
     "name": "stdout",
     "output_type": "stream",
     "text": [
      "MAE Results:\n",
      "                           model  train   test\n",
      "0    s21_linear_regression_batch 1167.7 1092.1\n",
      "1      s21_linear_regression_sgd 1167.7 1092.1\n",
      "2   s21_linear_regression_normal 1155.1 1085.6\n",
      "3              linear_regression 1155.1 1085.6\n",
      "4                      s21_ridge 1222.9 1147.2\n",
      "5               s21_ridge_normal 1155.1 1085.5\n",
      "6                      s21_lasso 1167.8 1092.2\n",
      "7                s21_elastic_net 1192.4 1116.8\n",
      "8                          ridge 1155.1 1085.5\n",
      "9                          lasso 1151.4 1081.8\n",
      "10                   elastic_net 1121.6 1048.5\n",
      "\n",
      "RMSE Results:\n",
      "                           model   train   test\n",
      "0    s21_linear_regression_batch 22034.7 9644.6\n",
      "1      s21_linear_regression_sgd 22034.7 9644.6\n",
      "2   s21_linear_regression_normal 21995.1 9618.8\n",
      "3              linear_regression 21995.1 9618.8\n",
      "4                      s21_ridge 22043.2 9661.5\n",
      "5               s21_ridge_normal 21995.1 9618.8\n",
      "6                      s21_lasso 22034.7 9644.7\n",
      "7                s21_elastic_net 22038.8 9652.7\n",
      "8                          ridge 21995.1 9618.8\n",
      "9                          lasso 21995.1 9618.6\n",
      "10                   elastic_net 22015.3 9611.4\n",
      "\n",
      "R2 Results (in %):\n",
      "                           model  train  test\n",
      "0    s21_linear_regression_batch    0.3   1.4\n",
      "1      s21_linear_regression_sgd    0.3   1.4\n",
      "2   s21_linear_regression_normal    0.6   1.9\n",
      "3              linear_regression    0.6   1.9\n",
      "4                      s21_ridge    0.2   1.1\n",
      "5               s21_ridge_normal    0.6   1.9\n",
      "6                      s21_lasso    0.3   1.4\n",
      "7                s21_elastic_net    0.3   1.2\n",
      "8                          ridge    0.6   1.9\n",
      "9                          lasso    0.6   1.9\n",
      "10                   elastic_net    0.5   2.1\n"
     ]
    }
   ],
   "source": [
    "models_eval.show_results()"
   ]
  },
  {
   "cell_type": "markdown",
   "id": "e6a7e54d",
   "metadata": {},
   "source": [
    "# Feature normalization"
   ]
  },
  {
   "cell_type": "code",
   "execution_count": 23,
   "id": "671a475c",
   "metadata": {},
   "outputs": [],
   "source": [
    "scaler = S21MinMaxScaler()\n",
    "X_train_s21minmax = scaler.fit_transform(X_train)\n",
    "X_test_s21minmax = scaler.transform(X_test)\n",
    "\n",
    "scaler = S21StandardScaler()\n",
    "X_train_s21standard = scaler.fit_transform(X_train)\n",
    "X_test_s21standard = scaler.transform(X_test)"
   ]
  },
  {
   "cell_type": "code",
   "execution_count": 24,
   "id": "6fea4e3e",
   "metadata": {},
   "outputs": [],
   "source": [
    "scaler = MinMaxScaler()\n",
    "X_train_minmax = scaler.fit_transform(X_train)\n",
    "X_test_minmax = scaler.transform(X_test)\n",
    "\n",
    "scaler = StandardScaler()\n",
    "X_train_standard = scaler.fit_transform(X_train)\n",
    "X_test_standard = scaler.transform(X_test)"
   ]
  },
  {
   "cell_type": "code",
   "execution_count": 25,
   "id": "60c1ff0b",
   "metadata": {},
   "outputs": [
    {
     "name": "stdout",
     "output_type": "stream",
     "text": [
      "Whether scikit learn identical to custom classes of normalization?\n",
      "Yes\n"
     ]
    }
   ],
   "source": [
    "print(\"Whether scikit learn identical to custom classes of normalization?\")\n",
    "if all([np.array_equal(X_train_minmax, X_train_s21minmax), \n",
    "np.array_equal(X_test_s21minmax, X_test_minmax),\n",
    "np.array_equal(X_train_standard, X_train_s21standard),\n",
    "np.array_equal(X_test_standard, X_test_s21standard)]) == 1:\n",
    "    print(\"Yes\")\n",
    "else:\n",
    "    print(\"No\")"
   ]
  },
  {
   "cell_type": "markdown",
   "id": "7107dd85",
   "metadata": {},
   "source": [
    "# Fit models with normalization"
   ]
  },
  {
   "cell_type": "code",
   "execution_count": 26,
   "id": "7f98afdc",
   "metadata": {},
   "outputs": [],
   "source": [
    "models_eval.run_models(X_train_minmax,X_test_minmax, y_train, y_test, \"minmax\")\n",
    "models_eval.run_models(X_train_standard,X_test_standard, y_train, y_test, \"standard\")"
   ]
  },
  {
   "cell_type": "code",
   "execution_count": 27,
   "id": "4812a03d",
   "metadata": {},
   "outputs": [
    {
     "name": "stdout",
     "output_type": "stream",
     "text": [
      "MAE Results:\n",
      "                           model  train   test\n",
      "0    s21_linear_regression_batch 1167.7 1092.1\n",
      "1      s21_linear_regression_sgd 1167.7 1092.1\n",
      "2   s21_linear_regression_normal 1155.1 1085.6\n",
      "3              linear_regression 1155.1 1085.6\n",
      "4                      s21_ridge 1222.9 1147.2\n",
      "5               s21_ridge_normal 1155.1 1085.5\n",
      "6                      s21_lasso 1167.8 1092.2\n",
      "7                s21_elastic_net 1192.4 1116.8\n",
      "8                          ridge 1155.1 1085.5\n",
      "9                          lasso 1151.4 1081.8\n",
      "10                   elastic_net 1121.6 1048.5\n",
      "11      linear_regression_minmax 1155.1 1085.6\n",
      "12                  ridge_minmax 1155.0 1085.4\n",
      "13                  lasso_minmax 1150.7 1080.9\n",
      "14            elastic_net_minmax 1447.1 1368.4\n",
      "15    linear_regression_standard 1155.1 1085.6\n",
      "16                ridge_standard 1155.1 1085.6\n",
      "17                lasso_standard 1153.5 1083.9\n",
      "18          elastic_net_standard 1074.1 1001.2\n",
      "\n",
      "RMSE Results:\n",
      "                           model   train   test\n",
      "0    s21_linear_regression_batch 22034.7 9644.6\n",
      "1      s21_linear_regression_sgd 22034.7 9644.6\n",
      "2   s21_linear_regression_normal 21995.1 9618.8\n",
      "3              linear_regression 21995.1 9618.8\n",
      "4                      s21_ridge 22043.2 9661.5\n",
      "5               s21_ridge_normal 21995.1 9618.8\n",
      "6                      s21_lasso 22034.7 9644.7\n",
      "7                s21_elastic_net 22038.8 9652.7\n",
      "8                          ridge 21995.1 9618.8\n",
      "9                          lasso 21995.1 9618.6\n",
      "10                   elastic_net 22015.3 9611.4\n",
      "11      linear_regression_minmax 21995.1 9618.8\n",
      "12                  ridge_minmax 21995.1 9617.9\n",
      "13                  lasso_minmax 21995.1 9616.9\n",
      "14            elastic_net_minmax 22051.8 9684.6\n",
      "15    linear_regression_standard 21995.1 9618.8\n",
      "16                ridge_standard 21995.1 9618.8\n",
      "17                lasso_standard 21995.1 9618.7\n",
      "18          elastic_net_standard 22001.2 9600.4\n",
      "\n",
      "R2 Results (in %):\n",
      "                           model  train  test\n",
      "0    s21_linear_regression_batch    0.3   1.4\n",
      "1      s21_linear_regression_sgd    0.3   1.4\n",
      "2   s21_linear_regression_normal    0.6   1.9\n",
      "3              linear_regression    0.6   1.9\n",
      "4                      s21_ridge    0.2   1.1\n",
      "5               s21_ridge_normal    0.6   1.9\n",
      "6                      s21_lasso    0.3   1.4\n",
      "7                s21_elastic_net    0.3   1.2\n",
      "8                          ridge    0.6   1.9\n",
      "9                          lasso    0.6   1.9\n",
      "10                   elastic_net    0.5   2.1\n",
      "11      linear_regression_minmax    0.6   1.9\n",
      "12                  ridge_minmax    0.6   1.9\n",
      "13                  lasso_minmax    0.6   2.0\n",
      "14            elastic_net_minmax    0.1   0.6\n",
      "15    linear_regression_standard    0.6   1.9\n",
      "16                ridge_standard    0.6   1.9\n",
      "17                lasso_standard    0.6   1.9\n",
      "18          elastic_net_standard    0.6   2.3\n"
     ]
    }
   ],
   "source": [
    "models_eval.show_results()"
   ]
  },
  {
   "cell_type": "markdown",
   "id": "8db9ef10",
   "metadata": {},
   "source": [
    "# Overfit models"
   ]
  },
  {
   "cell_type": "code",
   "execution_count": 28,
   "id": "951ee73b",
   "metadata": {},
   "outputs": [],
   "source": [
    "poly = PolynomialFeatures(10)\n",
    "X_train_poly = poly.fit_transform(X_train[['bathrooms', 'bedrooms']])\n",
    "X_test_poly = poly.transform(X_test[['bathrooms', 'bedrooms']])"
   ]
  },
  {
   "cell_type": "code",
   "execution_count": 29,
   "id": "63ef29c6",
   "metadata": {},
   "outputs": [
    {
     "name": "stderr",
     "output_type": "stream",
     "text": [
      "/home/alagis/S21/DS_bootcamp/temp/day03/ex00/jannmart/lib/python3.12/site-packages/sklearn/linear_model/_coordinate_descent.py:695: ConvergenceWarning: Objective did not converge. You might want to increase the number of iterations, check the scale of the features or consider increasing regularisation. Duality gap: 1.194e+13, tolerance: 2.403e+09\n",
      "  model = cd_fast.enet_coordinate_descent(\n",
      "/home/alagis/S21/DS_bootcamp/temp/day03/ex00/jannmart/lib/python3.12/site-packages/sklearn/linear_model/_coordinate_descent.py:695: ConvergenceWarning: Objective did not converge. You might want to increase the number of iterations, check the scale of the features or consider increasing regularisation. Duality gap: 1.194e+13, tolerance: 2.403e+09\n",
      "  model = cd_fast.enet_coordinate_descent(\n"
     ]
    }
   ],
   "source": [
    "models_eval.run_models(X_train_poly,X_test_poly, y_train, y_test, \"poly\")"
   ]
  },
  {
   "cell_type": "code",
   "execution_count": 30,
   "id": "772e4bc8",
   "metadata": {},
   "outputs": [
    {
     "name": "stderr",
     "output_type": "stream",
     "text": [
      "/home/alagis/S21/DS_bootcamp/temp/day03/ex00/jannmart/lib/python3.12/site-packages/sklearn/linear_model/_coordinate_descent.py:695: ConvergenceWarning: Objective did not converge. You might want to increase the number of iterations, check the scale of the features or consider increasing regularisation. Duality gap: 1.194e+13, tolerance: 2.403e+09\n",
      "  model = cd_fast.enet_coordinate_descent(\n",
      "/home/alagis/S21/DS_bootcamp/temp/day03/ex00/jannmart/lib/python3.12/site-packages/sklearn/linear_model/_coordinate_descent.py:695: ConvergenceWarning: Objective did not converge. You might want to increase the number of iterations, check the scale of the features or consider increasing regularisation. Duality gap: 1.194e+13, tolerance: 2.403e+09\n",
      "  model = cd_fast.enet_coordinate_descent(\n",
      "/home/alagis/S21/DS_bootcamp/temp/day03/ex00/jannmart/lib/python3.12/site-packages/sklearn/linear_model/_coordinate_descent.py:695: ConvergenceWarning: Objective did not converge. You might want to increase the number of iterations, check the scale of the features or consider increasing regularisation. Duality gap: 1.194e+13, tolerance: 2.403e+09\n",
      "  model = cd_fast.enet_coordinate_descent(\n",
      "/home/alagis/S21/DS_bootcamp/temp/day03/ex00/jannmart/lib/python3.12/site-packages/sklearn/linear_model/_coordinate_descent.py:695: ConvergenceWarning: Objective did not converge. You might want to increase the number of iterations, check the scale of the features or consider increasing regularisation. Duality gap: 1.194e+13, tolerance: 2.403e+09\n",
      "  model = cd_fast.enet_coordinate_descent(\n",
      "/home/alagis/S21/DS_bootcamp/temp/day03/ex00/jannmart/lib/python3.12/site-packages/sklearn/linear_model/_coordinate_descent.py:695: ConvergenceWarning: Objective did not converge. You might want to increase the number of iterations, check the scale of the features or consider increasing regularisation. Duality gap: 1.194e+13, tolerance: 2.403e+09\n",
      "  model = cd_fast.enet_coordinate_descent(\n",
      "/home/alagis/S21/DS_bootcamp/temp/day03/ex00/jannmart/lib/python3.12/site-packages/sklearn/linear_model/_coordinate_descent.py:695: ConvergenceWarning: Objective did not converge. You might want to increase the number of iterations, check the scale of the features or consider increasing regularisation. Duality gap: 1.194e+13, tolerance: 2.403e+09\n",
      "  model = cd_fast.enet_coordinate_descent(\n",
      "/home/alagis/S21/DS_bootcamp/temp/day03/ex00/jannmart/lib/python3.12/site-packages/sklearn/linear_model/_coordinate_descent.py:695: ConvergenceWarning: Objective did not converge. You might want to increase the number of iterations, check the scale of the features or consider increasing regularisation. Duality gap: 1.194e+13, tolerance: 2.403e+09\n",
      "  model = cd_fast.enet_coordinate_descent(\n",
      "/home/alagis/S21/DS_bootcamp/temp/day03/ex00/jannmart/lib/python3.12/site-packages/sklearn/linear_model/_coordinate_descent.py:695: ConvergenceWarning: Objective did not converge. You might want to increase the number of iterations, check the scale of the features or consider increasing regularisation. Duality gap: 1.194e+13, tolerance: 2.403e+09\n",
      "  model = cd_fast.enet_coordinate_descent(\n",
      "/home/alagis/S21/DS_bootcamp/temp/day03/ex00/jannmart/lib/python3.12/site-packages/sklearn/linear_model/_ridge.py:215: LinAlgWarning: Ill-conditioned matrix (rcond=2.80933e-20): result may not be accurate.\n",
      "  return linalg.solve(A, Xy, assume_a=\"pos\", overwrite_a=True).T\n",
      "/home/alagis/S21/DS_bootcamp/temp/day03/ex00/jannmart/lib/python3.12/site-packages/sklearn/linear_model/_coordinate_descent.py:695: ConvergenceWarning: Objective did not converge. You might want to increase the number of iterations, check the scale of the features or consider increasing regularisation. Duality gap: 1.194e+13, tolerance: 2.403e+09\n",
      "  model = cd_fast.enet_coordinate_descent(\n",
      "/home/alagis/S21/DS_bootcamp/temp/day03/ex00/jannmart/lib/python3.12/site-packages/sklearn/linear_model/_coordinate_descent.py:695: ConvergenceWarning: Objective did not converge. You might want to increase the number of iterations, check the scale of the features or consider increasing regularisation. Duality gap: 1.194e+13, tolerance: 2.403e+09\n",
      "  model = cd_fast.enet_coordinate_descent(\n"
     ]
    }
   ],
   "source": [
    "best_model_info = models_eval.find_best_alpha(X_train_poly,X_test_poly, y_train, y_test)"
   ]
  },
  {
   "cell_type": "code",
   "execution_count": 31,
   "id": "7baea0b6",
   "metadata": {},
   "outputs": [
    {
     "name": "stdout",
     "output_type": "stream",
     "text": [
      "{'model_name': 'ElasticNet', 'alpha': 1.0, 'model': ElasticNet(), 'rmse': 12859307559963.525, 'mae': 47062669282.27575, 'r2': -1.7527743710103035e+18}\n"
     ]
    }
   ],
   "source": [
    "print(best_model_info)"
   ]
  },
  {
   "cell_type": "code",
   "execution_count": 32,
   "id": "a9f403a9",
   "metadata": {},
   "outputs": [
    {
     "name": "stdout",
     "output_type": "stream",
     "text": [
      "MAE Results:\n",
      "                           model  train                test\n",
      "0    s21_linear_regression_batch 1167.7              1092.1\n",
      "1      s21_linear_regression_sgd 1167.7              1092.1\n",
      "2   s21_linear_regression_normal 1155.1              1085.6\n",
      "3              linear_regression 1155.1              1085.6\n",
      "4                      s21_ridge 1222.9              1147.2\n",
      "5               s21_ridge_normal 1155.1              1085.5\n",
      "6                      s21_lasso 1167.8              1092.2\n",
      "7                s21_elastic_net 1192.4              1116.8\n",
      "8                          ridge 1155.1              1085.5\n",
      "9                          lasso 1151.4              1081.8\n",
      "10                   elastic_net 1121.6              1048.5\n",
      "11      linear_regression_minmax 1155.1              1085.6\n",
      "12                  ridge_minmax 1155.0              1085.4\n",
      "13                  lasso_minmax 1150.7              1080.9\n",
      "14            elastic_net_minmax 1447.1              1368.4\n",
      "15    linear_regression_standard 1155.1              1085.6\n",
      "16                ridge_standard 1155.1              1085.6\n",
      "17                lasso_standard 1153.5              1083.9\n",
      "18          elastic_net_standard 1074.1              1001.2\n",
      "19        linear_regression_poly 1060.2  9444628805245204.0\n",
      "20                    ridge_poly 1059.4 15451957428119780.0\n",
      "21                    lasso_poly 1060.5       60948743025.0\n",
      "22              elastic_net_poly 1060.9       47062669282.3\n",
      "23          ElasticNet_alpha_1.0 1060.9       47062669282.3\n",
      "\n",
      "RMSE Results:\n",
      "                           model   train                  test\n",
      "0    s21_linear_regression_batch 22034.7                9644.6\n",
      "1      s21_linear_regression_sgd 22034.7                9644.6\n",
      "2   s21_linear_regression_normal 21995.1                9618.8\n",
      "3              linear_regression 21995.1                9618.8\n",
      "4                      s21_ridge 22043.2                9661.5\n",
      "5               s21_ridge_normal 21995.1                9618.8\n",
      "6                      s21_lasso 22034.7                9644.7\n",
      "7                s21_elastic_net 22038.8                9652.7\n",
      "8                          ridge 21995.1                9618.8\n",
      "9                          lasso 21995.1                9618.6\n",
      "10                   elastic_net 22015.3                9611.4\n",
      "11      linear_regression_minmax 21995.1                9618.8\n",
      "12                  ridge_minmax 21995.1                9617.9\n",
      "13                  lasso_minmax 21995.1                9616.9\n",
      "14            elastic_net_minmax 22051.8                9684.6\n",
      "15    linear_regression_standard 21995.1                9618.8\n",
      "16                ridge_standard 21995.1                9618.8\n",
      "17                lasso_standard 21995.1                9618.7\n",
      "18          elastic_net_standard 22001.2                9600.4\n",
      "19        linear_regression_poly 21993.4 2580631361945640448.0\n",
      "20                    ridge_poly 21993.4 4222061741433908736.0\n",
      "21                    lasso_poly 21996.8      16653510935307.8\n",
      "22              elastic_net_poly 21997.4      12859307559963.5\n",
      "23          ElasticNet_alpha_1.0 21997.4      12859307559963.5\n",
      "\n",
      "R2 Results (in %):\n",
      "                           model  train                                test\n",
      "0    s21_linear_regression_batch    0.3                                 1.4\n",
      "1      s21_linear_regression_sgd    0.3                                 1.4\n",
      "2   s21_linear_regression_normal    0.6                                 1.9\n",
      "3              linear_regression    0.6                                 1.9\n",
      "4                      s21_ridge    0.2                                 1.1\n",
      "5               s21_ridge_normal    0.6                                 1.9\n",
      "6                      s21_lasso    0.3                                 1.4\n",
      "7                s21_elastic_net    0.3                                 1.2\n",
      "8                          ridge    0.6                                 1.9\n",
      "9                          lasso    0.6                                 1.9\n",
      "10                   elastic_net    0.5                                 2.1\n",
      "11      linear_regression_minmax    0.6                                 1.9\n",
      "12                  ridge_minmax    0.6                                 1.9\n",
      "13                  lasso_minmax    0.6                                 2.0\n",
      "14            elastic_net_minmax    0.1                                 0.6\n",
      "15    linear_regression_standard    0.6                                 1.9\n",
      "16                ridge_standard    0.6                                 1.9\n",
      "17                lasso_standard    0.6                                 1.9\n",
      "18          elastic_net_standard    0.6                                 2.3\n",
      "19        linear_regression_poly    0.7  -7058993612494581966389100150784.0\n",
      "20                    ridge_poly    0.7 -18894700271008755035722183868416.0\n",
      "21                    lasso_poly    0.6            -293969626285448560640.0\n",
      "22              elastic_net_poly    0.6            -175277437101030342656.0\n",
      "23          ElasticNet_alpha_1.0    0.6            -175277437101030342656.0\n"
     ]
    }
   ],
   "source": [
    "models_eval.show_results()"
   ]
  },
  {
   "cell_type": "markdown",
   "id": "b2e41292",
   "metadata": {},
   "source": [
    "# Naive models"
   ]
  },
  {
   "cell_type": "code",
   "execution_count": 33,
   "id": "5359152a",
   "metadata": {},
   "outputs": [],
   "source": [
    "models_eval.insert_eval_in_DF(\"naive_mean\", y_train, np.full(len(y_train), np.mean(y_train)), y_test, np.full(len(y_test), np.mean(y_test)))\n",
    "models_eval.insert_eval_in_DF(\"naive_median\", y_train, np.full(len(y_train), np.median(y_train)), y_test, np.full(len(y_test), np.median(y_test)))"
   ]
  },
  {
   "cell_type": "markdown",
   "id": "57b95855",
   "metadata": {},
   "source": [
    "# Compare results"
   ]
  },
  {
   "cell_type": "code",
   "execution_count": 34,
   "id": "a15b63d6",
   "metadata": {},
   "outputs": [
    {
     "name": "stdout",
     "output_type": "stream",
     "text": [
      "MAE Results:\n",
      "                           model  train                test\n",
      "0    s21_linear_regression_batch 1167.7              1092.1\n",
      "1      s21_linear_regression_sgd 1167.7              1092.1\n",
      "2   s21_linear_regression_normal 1155.1              1085.6\n",
      "3              linear_regression 1155.1              1085.6\n",
      "4                      s21_ridge 1222.9              1147.2\n",
      "5               s21_ridge_normal 1155.1              1085.5\n",
      "6                      s21_lasso 1167.8              1092.2\n",
      "7                s21_elastic_net 1192.4              1116.8\n",
      "8                          ridge 1155.1              1085.5\n",
      "9                          lasso 1151.4              1081.8\n",
      "10                   elastic_net 1121.6              1048.5\n",
      "11      linear_regression_minmax 1155.1              1085.6\n",
      "12                  ridge_minmax 1155.0              1085.4\n",
      "13                  lasso_minmax 1150.7              1080.9\n",
      "14            elastic_net_minmax 1447.1              1368.4\n",
      "15    linear_regression_standard 1155.1              1085.6\n",
      "16                ridge_standard 1155.1              1085.6\n",
      "17                lasso_standard 1153.5              1083.9\n",
      "18          elastic_net_standard 1074.1              1001.2\n",
      "19        linear_regression_poly 1060.2  9444628805245204.0\n",
      "20                    ridge_poly 1059.4 15451957428119780.0\n",
      "21                    lasso_poly 1060.5       60948743025.0\n",
      "22              elastic_net_poly 1060.9       47062669282.3\n",
      "23          ElasticNet_alpha_1.0 1060.9       47062669282.3\n",
      "24                    naive_mean 1549.6              1441.0\n",
      "25                  naive_median 1400.3              1322.6\n",
      "\n",
      "RMSE Results:\n",
      "                           model   train                  test\n",
      "0    s21_linear_regression_batch 22034.7                9644.6\n",
      "1      s21_linear_regression_sgd 22034.7                9644.6\n",
      "2   s21_linear_regression_normal 21995.1                9618.8\n",
      "3              linear_regression 21995.1                9618.8\n",
      "4                      s21_ridge 22043.2                9661.5\n",
      "5               s21_ridge_normal 21995.1                9618.8\n",
      "6                      s21_lasso 22034.7                9644.7\n",
      "7                s21_elastic_net 22038.8                9652.7\n",
      "8                          ridge 21995.1                9618.8\n",
      "9                          lasso 21995.1                9618.6\n",
      "10                   elastic_net 22015.3                9611.4\n",
      "11      linear_regression_minmax 21995.1                9618.8\n",
      "12                  ridge_minmax 21995.1                9617.9\n",
      "13                  lasso_minmax 21995.1                9616.9\n",
      "14            elastic_net_minmax 22051.8                9684.6\n",
      "15    linear_regression_standard 21995.1                9618.8\n",
      "16                ridge_standard 21995.1                9618.8\n",
      "17                lasso_standard 21995.1                9618.7\n",
      "18          elastic_net_standard 22001.2                9600.4\n",
      "19        linear_regression_poly 21993.4 2580631361945640448.0\n",
      "20                    ridge_poly 21993.4 4222061741433908736.0\n",
      "21                    lasso_poly 21996.8      16653510935307.8\n",
      "22              elastic_net_poly 21997.4      12859307559963.5\n",
      "23          ElasticNet_alpha_1.0 21997.4      12859307559963.5\n",
      "24                    naive_mean 22066.6                9713.0\n",
      "25                  naive_median 22077.1                9731.5\n",
      "\n",
      "R2 Results (in %):\n",
      "                           model  train                                test\n",
      "0    s21_linear_regression_batch    0.3                                 1.4\n",
      "1      s21_linear_regression_sgd    0.3                                 1.4\n",
      "2   s21_linear_regression_normal    0.6                                 1.9\n",
      "3              linear_regression    0.6                                 1.9\n",
      "4                      s21_ridge    0.2                                 1.1\n",
      "5               s21_ridge_normal    0.6                                 1.9\n",
      "6                      s21_lasso    0.3                                 1.4\n",
      "7                s21_elastic_net    0.3                                 1.2\n",
      "8                          ridge    0.6                                 1.9\n",
      "9                          lasso    0.6                                 1.9\n",
      "10                   elastic_net    0.5                                 2.1\n",
      "11      linear_regression_minmax    0.6                                 1.9\n",
      "12                  ridge_minmax    0.6                                 1.9\n",
      "13                  lasso_minmax    0.6                                 2.0\n",
      "14            elastic_net_minmax    0.1                                 0.6\n",
      "15    linear_regression_standard    0.6                                 1.9\n",
      "16                ridge_standard    0.6                                 1.9\n",
      "17                lasso_standard    0.6                                 1.9\n",
      "18          elastic_net_standard    0.6                                 2.3\n",
      "19        linear_regression_poly    0.7  -7058993612494581966389100150784.0\n",
      "20                    ridge_poly    0.7 -18894700271008755035722183868416.0\n",
      "21                    lasso_poly    0.6            -293969626285448560640.0\n",
      "22              elastic_net_poly    0.6            -175277437101030342656.0\n",
      "23          ElasticNet_alpha_1.0    0.6            -175277437101030342656.0\n",
      "24                    naive_mean    0.0                                 0.0\n",
      "25                  naive_median   -0.1                                -0.4\n"
     ]
    }
   ],
   "source": [
    "models_eval.show_results()"
   ]
  },
  {
   "cell_type": "code",
   "execution_count": 35,
   "id": "e7423559",
   "metadata": {},
   "outputs": [
    {
     "name": "stdout",
     "output_type": "stream",
     "text": [
      "MAE Results:\n",
      "                   model  train   test  diff\n",
      "18  elastic_net_standard 1074.1 1001.2  72.9\n",
      "10           elastic_net 1121.6 1048.5  73.1\n",
      "13          lasso_minmax 1150.7 1080.9  69.8\n",
      "9                  lasso 1151.4 1081.8  69.7\n",
      "17        lasso_standard 1153.5 1083.9  69.6\n",
      "\n",
      "RMSE Results:\n",
      "                   model   train   test    diff\n",
      "18  elastic_net_standard 22001.2 9600.4 12400.8\n",
      "10           elastic_net 22015.3 9611.4 12403.9\n",
      "13          lasso_minmax 21995.1 9616.9 12378.1\n",
      "12          ridge_minmax 21995.1 9617.9 12377.2\n",
      "9                  lasso 21995.1 9618.6 12376.5\n",
      "\n",
      "R2 Results (in %):\n",
      "                   model  train  test  diff\n",
      "18  elastic_net_standard    0.6   2.3   1.7\n",
      "10           elastic_net    0.5   2.1   1.6\n",
      "13          lasso_minmax    0.6   2.0   1.3\n",
      "12          ridge_minmax    0.6   1.9   1.3\n",
      "9                  lasso    0.6   1.9   1.3\n"
     ]
    }
   ],
   "source": [
    "models_eval.show_best_models()"
   ]
  },
  {
   "cell_type": "markdown",
   "id": "1b00c68c",
   "metadata": {},
   "source": [
    "Одновременно и лучшая модель и наболее стабильная - это elasticnet на стандартизированных данных"
   ]
  },
  {
   "cell_type": "markdown",
   "id": "6c7afeed",
   "metadata": {},
   "source": [
    "# Addition task"
   ]
  },
  {
   "cell_type": "markdown",
   "id": "b7515af3",
   "metadata": {},
   "source": [
    "## logs"
   ]
  },
  {
   "cell_type": "code",
   "execution_count": 36,
   "id": "dbf66bd8",
   "metadata": {},
   "outputs": [],
   "source": [
    "y_train_log = np.log(y_train)\n",
    "type = \"log\"\n",
    "reg = LinearRegression().fit(X_train, y_train_log)\n",
    "models_eval.insert_eval_in_DF(\"linear_regression_\"+type, y_train, np.exp(reg.predict(X_train)), y_test, np.exp(reg.predict(X_test)))\n",
    "reg = Ridge().fit(X_train, y_train_log)\n",
    "models_eval.insert_eval_in_DF(\"ridge_\"+type, y_train, np.exp(reg.predict(X_train)), y_test, np.exp(reg.predict(X_test)))\n",
    "reg = Lasso().fit(X_train, y_train_log)\n",
    "models_eval.insert_eval_in_DF(\"lasso_\"+type, y_train, np.exp(reg.predict(X_train)), y_test, np.exp(reg.predict(X_test)))\n",
    "reg = ElasticNet().fit(X_train, y_train_log)\n",
    "models_eval.insert_eval_in_DF(\"elastic_net_\"+type, y_train, np.exp(reg.predict(X_train)), y_test, np.exp(reg.predict(X_test)))"
   ]
  },
  {
   "cell_type": "code",
   "execution_count": 37,
   "id": "272c268a",
   "metadata": {},
   "outputs": [
    {
     "name": "stdout",
     "output_type": "stream",
     "text": [
      "MAE Results:\n",
      "                           model  train                test\n",
      "0    s21_linear_regression_batch 1167.7              1092.1\n",
      "1      s21_linear_regression_sgd 1167.7              1092.1\n",
      "2   s21_linear_regression_normal 1155.1              1085.6\n",
      "3              linear_regression 1155.1              1085.6\n",
      "4                      s21_ridge 1222.9              1147.2\n",
      "5               s21_ridge_normal 1155.1              1085.5\n",
      "6                      s21_lasso 1167.8              1092.2\n",
      "7                s21_elastic_net 1192.4              1116.8\n",
      "8                          ridge 1155.1              1085.5\n",
      "9                          lasso 1151.4              1081.8\n",
      "10                   elastic_net 1121.6              1048.5\n",
      "11      linear_regression_minmax 1155.1              1085.6\n",
      "12                  ridge_minmax 1155.0              1085.4\n",
      "13                  lasso_minmax 1150.7              1080.9\n",
      "14            elastic_net_minmax 1447.1              1368.4\n",
      "15    linear_regression_standard 1155.1              1085.6\n",
      "16                ridge_standard 1155.1              1085.6\n",
      "17                lasso_standard 1153.5              1083.9\n",
      "18          elastic_net_standard 1074.1              1001.2\n",
      "19        linear_regression_poly 1060.2  9444628805245204.0\n",
      "20                    ridge_poly 1059.4 15451957428119780.0\n",
      "21                    lasso_poly 1060.5       60948743025.0\n",
      "22              elastic_net_poly 1060.9       47062669282.3\n",
      "23          ElasticNet_alpha_1.0 1060.9       47062669282.3\n",
      "24                    naive_mean 1549.6              1441.0\n",
      "25                  naive_median 1400.3              1322.6\n",
      "26         linear_regression_log  954.2   175326582914853.9\n",
      "27                     ridge_log  954.2   174788292364178.9\n",
      "28                     lasso_log 1407.6              1329.8\n",
      "29               elastic_net_log 1407.6              1329.8\n",
      "\n",
      "RMSE Results:\n",
      "                           model   train                  test\n",
      "0    s21_linear_regression_batch 22034.7                9644.6\n",
      "1      s21_linear_regression_sgd 22034.7                9644.6\n",
      "2   s21_linear_regression_normal 21995.1                9618.8\n",
      "3              linear_regression 21995.1                9618.8\n",
      "4                      s21_ridge 22043.2                9661.5\n",
      "5               s21_ridge_normal 21995.1                9618.8\n",
      "6                      s21_lasso 22034.7                9644.7\n",
      "7                s21_elastic_net 22038.8                9652.7\n",
      "8                          ridge 21995.1                9618.8\n",
      "9                          lasso 21995.1                9618.6\n",
      "10                   elastic_net 22015.3                9611.4\n",
      "11      linear_regression_minmax 21995.1                9618.8\n",
      "12                  ridge_minmax 21995.1                9617.9\n",
      "13                  lasso_minmax 21995.1                9616.9\n",
      "14            elastic_net_minmax 22051.8                9684.6\n",
      "15    linear_regression_standard 21995.1                9618.8\n",
      "16                ridge_standard 21995.1                9618.8\n",
      "17                lasso_standard 21995.1                9618.7\n",
      "18          elastic_net_standard 22001.2                9600.4\n",
      "19        linear_regression_poly 21993.4 2580631361945640448.0\n",
      "20                    ridge_poly 21993.4 4222061741433908736.0\n",
      "21                    lasso_poly 21996.8      16653510935307.8\n",
      "22              elastic_net_poly 21997.4      12859307559963.5\n",
      "23          ElasticNet_alpha_1.0 21997.4      12859307559963.5\n",
      "24                    naive_mean 22066.6                9713.0\n",
      "25                  naive_median 22077.1                9731.5\n",
      "26         linear_regression_log 21997.6   47905883372296296.0\n",
      "27                     ridge_log 21997.6   47758801943385408.0\n",
      "28                     lasso_log 22073.2                9723.8\n",
      "29               elastic_net_log 22073.2                9723.8\n",
      "\n",
      "R2 Results (in %):\n",
      "                           model  train                                test\n",
      "0    s21_linear_regression_batch    0.3                                 1.4\n",
      "1      s21_linear_regression_sgd    0.3                                 1.4\n",
      "2   s21_linear_regression_normal    0.6                                 1.9\n",
      "3              linear_regression    0.6                                 1.9\n",
      "4                      s21_ridge    0.2                                 1.1\n",
      "5               s21_ridge_normal    0.6                                 1.9\n",
      "6                      s21_lasso    0.3                                 1.4\n",
      "7                s21_elastic_net    0.3                                 1.2\n",
      "8                          ridge    0.6                                 1.9\n",
      "9                          lasso    0.6                                 1.9\n",
      "10                   elastic_net    0.5                                 2.1\n",
      "11      linear_regression_minmax    0.6                                 1.9\n",
      "12                  ridge_minmax    0.6                                 1.9\n",
      "13                  lasso_minmax    0.6                                 2.0\n",
      "14            elastic_net_minmax    0.1                                 0.6\n",
      "15    linear_regression_standard    0.6                                 1.9\n",
      "16                ridge_standard    0.6                                 1.9\n",
      "17                lasso_standard    0.6                                 1.9\n",
      "18          elastic_net_standard    0.6                                 2.3\n",
      "19        linear_regression_poly    0.7  -7058993612494581966389100150784.0\n",
      "20                    ridge_poly    0.7 -18894700271008755035722183868416.0\n",
      "21                    lasso_poly    0.6            -293969626285448560640.0\n",
      "22              elastic_net_poly    0.6            -175277437101030342656.0\n",
      "23          ElasticNet_alpha_1.0    0.6            -175277437101030342656.0\n",
      "24                    naive_mean    0.0                                 0.0\n",
      "25                  naive_median   -0.1                                -0.4\n",
      "26         linear_regression_log    0.6     -2432587959960069436990291968.0\n",
      "27                     ridge_log    0.6     -2417673747179759479147200512.0\n",
      "28                     lasso_log   -0.1                                -0.2\n",
      "29               elastic_net_log   -0.1                                -0.2\n"
     ]
    }
   ],
   "source": [
    "models_eval.show_results()"
   ]
  },
  {
   "cell_type": "markdown",
   "id": "4646947f",
   "metadata": {},
   "source": [
    "Log преобразование улучшает фит модели на тренировочных данных, но дает сильную ошибку на тесте (что, вероятно, связано с неучетом выбросов), что делает ее нестабильной"
   ]
  },
  {
   "cell_type": "markdown",
   "id": "e18c1293",
   "metadata": {},
   "source": [
    "## outlires"
   ]
  },
  {
   "cell_type": "code",
   "execution_count": 38,
   "id": "f7c144de",
   "metadata": {},
   "outputs": [],
   "source": [
    "df_train_clean = FeatureCreating().remove_outliers_iqr(df_train, \"price\")\n",
    "X_train_clean = df_train_clean[feature_list]\n",
    "y_train_clean = df_train_clean[['price']]"
   ]
  },
  {
   "cell_type": "code",
   "execution_count": 39,
   "id": "14e49638",
   "metadata": {},
   "outputs": [],
   "source": [
    "models_eval.insert_eval_in_DF(\"naive_mean_clean\", y_train_clean, np.full(len(y_train_clean), np.mean(y_train_clean)), y_test, np.full(len(y_test), np.mean(y_test)))\n",
    "models_eval.insert_eval_in_DF(\"naive_median_clean\", y_train_clean, np.full(len(y_train_clean), np.median(y_train_clean)), y_test, np.full(len(y_test), np.median(y_test)))"
   ]
  },
  {
   "cell_type": "code",
   "execution_count": 40,
   "id": "9ba2e891",
   "metadata": {},
   "outputs": [],
   "source": [
    "models_eval.run_models(X_train_clean, X_test, y_train_clean, y_test, \"clean\")"
   ]
  },
  {
   "cell_type": "code",
   "execution_count": 41,
   "id": "408d76c7",
   "metadata": {},
   "outputs": [
    {
     "name": "stdout",
     "output_type": "stream",
     "text": [
      "MAE Results:\n",
      "                           model  train                test\n",
      "0    s21_linear_regression_batch 1167.7              1092.1\n",
      "1      s21_linear_regression_sgd 1167.7              1092.1\n",
      "2   s21_linear_regression_normal 1155.1              1085.6\n",
      "3              linear_regression 1155.1              1085.6\n",
      "4                      s21_ridge 1222.9              1147.2\n",
      "5               s21_ridge_normal 1155.1              1085.5\n",
      "6                      s21_lasso 1167.8              1092.2\n",
      "7                s21_elastic_net 1192.4              1116.8\n",
      "8                          ridge 1155.1              1085.5\n",
      "9                          lasso 1151.4              1081.8\n",
      "10                   elastic_net 1121.6              1048.5\n",
      "11      linear_regression_minmax 1155.1              1085.6\n",
      "12                  ridge_minmax 1155.0              1085.4\n",
      "13                  lasso_minmax 1150.7              1080.9\n",
      "14            elastic_net_minmax 1447.1              1368.4\n",
      "15    linear_regression_standard 1155.1              1085.6\n",
      "16                ridge_standard 1155.1              1085.6\n",
      "17                lasso_standard 1153.5              1083.9\n",
      "18          elastic_net_standard 1074.1              1001.2\n",
      "19        linear_regression_poly 1060.2  9444628805245204.0\n",
      "20                    ridge_poly 1059.4 15451957428119780.0\n",
      "21                    lasso_poly 1060.5       60948743025.0\n",
      "22              elastic_net_poly 1060.9       47062669282.3\n",
      "23          ElasticNet_alpha_1.0 1060.9       47062669282.3\n",
      "24                    naive_mean 1549.6              1441.0\n",
      "25                  naive_median 1400.3              1322.6\n",
      "26         linear_regression_log  954.2   175326582914853.9\n",
      "27                     ridge_log  954.2   174788292364178.9\n",
      "28                     lasso_log 1407.6              1329.8\n",
      "29               elastic_net_log 1407.6              1329.8\n",
      "30              naive_mean_clean  897.2              1441.0\n",
      "31            naive_median_clean  881.0              1322.6\n",
      "32       linear_regression_clean  595.2               932.2\n",
      "33                   ridge_clean  595.2               932.2\n",
      "34                   lasso_clean  595.4               933.3\n",
      "35             elastic_net_clean  675.1              1065.8\n",
      "\n",
      "RMSE Results:\n",
      "                           model   train                  test\n",
      "0    s21_linear_regression_batch 22034.7                9644.6\n",
      "1      s21_linear_regression_sgd 22034.7                9644.6\n",
      "2   s21_linear_regression_normal 21995.1                9618.8\n",
      "3              linear_regression 21995.1                9618.8\n",
      "4                      s21_ridge 22043.2                9661.5\n",
      "5               s21_ridge_normal 21995.1                9618.8\n",
      "6                      s21_lasso 22034.7                9644.7\n",
      "7                s21_elastic_net 22038.8                9652.7\n",
      "8                          ridge 21995.1                9618.8\n",
      "9                          lasso 21995.1                9618.6\n",
      "10                   elastic_net 22015.3                9611.4\n",
      "11      linear_regression_minmax 21995.1                9618.8\n",
      "12                  ridge_minmax 21995.1                9617.9\n",
      "13                  lasso_minmax 21995.1                9616.9\n",
      "14            elastic_net_minmax 22051.8                9684.6\n",
      "15    linear_regression_standard 21995.1                9618.8\n",
      "16                ridge_standard 21995.1                9618.8\n",
      "17                lasso_standard 21995.1                9618.7\n",
      "18          elastic_net_standard 22001.2                9600.4\n",
      "19        linear_regression_poly 21993.4 2580631361945640448.0\n",
      "20                    ridge_poly 21993.4 4222061741433908736.0\n",
      "21                    lasso_poly 21996.8      16653510935307.8\n",
      "22              elastic_net_poly 21997.4      12859307559963.5\n",
      "23          ElasticNet_alpha_1.0 21997.4      12859307559963.5\n",
      "24                    naive_mean 22066.6                9713.0\n",
      "25                  naive_median 22077.1                9731.5\n",
      "26         linear_regression_log 21997.6   47905883372296296.0\n",
      "27                     ridge_log 21997.6   47758801943385408.0\n",
      "28                     lasso_log 22073.2                9723.8\n",
      "29               elastic_net_log 22073.2                9723.8\n",
      "30              naive_mean_clean  1130.9                9713.0\n",
      "31            naive_median_clean  1153.1                9731.5\n",
      "32       linear_regression_clean   782.9                9617.3\n",
      "33                   ridge_clean   782.9                9617.3\n",
      "34                   lasso_clean   783.1                9617.7\n",
      "35             elastic_net_clean   866.3                9659.0\n",
      "\n",
      "R2 Results (in %):\n",
      "                           model  train                                test\n",
      "0    s21_linear_regression_batch    0.3                                 1.4\n",
      "1      s21_linear_regression_sgd    0.3                                 1.4\n",
      "2   s21_linear_regression_normal    0.6                                 1.9\n",
      "3              linear_regression    0.6                                 1.9\n",
      "4                      s21_ridge    0.2                                 1.1\n",
      "5               s21_ridge_normal    0.6                                 1.9\n",
      "6                      s21_lasso    0.3                                 1.4\n",
      "7                s21_elastic_net    0.3                                 1.2\n",
      "8                          ridge    0.6                                 1.9\n",
      "9                          lasso    0.6                                 1.9\n",
      "10                   elastic_net    0.5                                 2.1\n",
      "11      linear_regression_minmax    0.6                                 1.9\n",
      "12                  ridge_minmax    0.6                                 1.9\n",
      "13                  lasso_minmax    0.6                                 2.0\n",
      "14            elastic_net_minmax    0.1                                 0.6\n",
      "15    linear_regression_standard    0.6                                 1.9\n",
      "16                ridge_standard    0.6                                 1.9\n",
      "17                lasso_standard    0.6                                 1.9\n",
      "18          elastic_net_standard    0.6                                 2.3\n",
      "19        linear_regression_poly    0.7  -7058993612494581966389100150784.0\n",
      "20                    ridge_poly    0.7 -18894700271008755035722183868416.0\n",
      "21                    lasso_poly    0.6            -293969626285448560640.0\n",
      "22              elastic_net_poly    0.6            -175277437101030342656.0\n",
      "23          ElasticNet_alpha_1.0    0.6            -175277437101030342656.0\n",
      "24                    naive_mean    0.0                                 0.0\n",
      "25                  naive_median   -0.1                                -0.4\n",
      "26         linear_regression_log    0.6     -2432587959960069436990291968.0\n",
      "27                     ridge_log    0.6     -2417673747179759479147200512.0\n",
      "28                     lasso_log   -0.1                                -0.2\n",
      "29               elastic_net_log   -0.1                                -0.2\n",
      "30              naive_mean_clean    0.0                                 0.0\n",
      "31            naive_median_clean   -4.0                                -0.4\n",
      "32       linear_regression_clean   52.1                                 2.0\n",
      "33                   ridge_clean   52.1                                 2.0\n",
      "34                   lasso_clean   52.1                                 2.0\n",
      "35             elastic_net_clean   41.3                                 1.1\n"
     ]
    }
   ],
   "source": [
    "models_eval.show_results()"
   ]
  },
  {
   "cell_type": "code",
   "execution_count": 42,
   "id": "dd63d2bc",
   "metadata": {},
   "outputs": [
    {
     "name": "stdout",
     "output_type": "stream",
     "text": [
      "MAE Results:\n",
      "                      model  train   test  diff\n",
      "32  linear_regression_clean  595.2  932.2 337.0\n",
      "33              ridge_clean  595.2  932.2 337.0\n",
      "34              lasso_clean  595.4  933.3 337.8\n",
      "18     elastic_net_standard 1074.1 1001.2  72.9\n",
      "10              elastic_net 1121.6 1048.5  73.1\n",
      "\n",
      "RMSE Results:\n",
      "                      model   train   test    diff\n",
      "18     elastic_net_standard 22001.2 9600.4 12400.8\n",
      "10              elastic_net 22015.3 9611.4 12403.9\n",
      "13             lasso_minmax 21995.1 9616.9 12378.1\n",
      "32  linear_regression_clean   782.9 9617.3  8834.4\n",
      "33              ridge_clean   782.9 9617.3  8834.4\n",
      "\n",
      "R2 Results (in %):\n",
      "                      model  train  test  diff\n",
      "18     elastic_net_standard    0.6   2.3   1.7\n",
      "10              elastic_net    0.5   2.1   1.6\n",
      "13             lasso_minmax    0.6   2.0   1.3\n",
      "32  linear_regression_clean   52.1   2.0  50.1\n",
      "33              ridge_clean   52.1   2.0  50.1\n"
     ]
    }
   ],
   "source": [
    "models_eval.show_best_models()"
   ]
  },
  {
   "cell_type": "markdown",
   "id": "3ceaf12f",
   "metadata": {},
   "source": [
    "Очистка данных от выбросов - даже только на tain значительно улучшает качество фита, но генерализующая способность остается на том же уровне. Для достижения лучшего эффекта стоит применить трансформацию и на тестовые данные  \n",
    "В результате лучший результат на train (в терминах MAE и $R^2$) и большую стабильность в терминах MAE и RMSE показывают модели с удалением выбросов на train"
   ]
  }
 ],
 "metadata": {
  "kernelspec": {
   "display_name": "jannmart",
   "language": "python",
   "name": "python3"
  },
  "language_info": {
   "codemirror_mode": {
    "name": "ipython",
    "version": 3
   },
   "file_extension": ".py",
   "mimetype": "text/x-python",
   "name": "python",
   "nbconvert_exporter": "python",
   "pygments_lexer": "ipython3",
   "version": "3.12.3"
  }
 },
 "nbformat": 4,
 "nbformat_minor": 5
}
