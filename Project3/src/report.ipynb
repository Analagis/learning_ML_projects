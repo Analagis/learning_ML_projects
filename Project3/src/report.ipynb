{
 "cells": [
  {
   "cell_type": "markdown",
   "id": "603d120f",
   "metadata": {},
   "source": [
    "# libs import"
   ]
  },
  {
   "cell_type": "code",
   "execution_count": 1,
   "id": "6877fa81",
   "metadata": {},
   "outputs": [
    {
     "name": "stderr",
     "output_type": "stream",
     "text": [
      "/home/alagis/jannmart/lib/python3.12/site-packages/tqdm/auto.py:21: TqdmWarning: IProgress not found. Please update jupyter and ipywidgets. See https://ipywidgets.readthedocs.io/en/stable/user_install.html\n",
      "  from .autonotebook import tqdm as notebook_tqdm\n"
     ]
    }
   ],
   "source": [
    "import pandas as pd\n",
    "import numpy as np\n",
    "from collections import Counter\n",
    "from sklearn.model_selection import KFold, GroupKFold, StratifiedKFold, TimeSeriesSplit\n",
    "from sklearn.preprocessing import StandardScaler\n",
    "from sklearn.linear_model import Lasso, ElasticNet\n",
    "from sklearn.metrics import root_mean_squared_error\n",
    "from sklearn.inspection import permutation_importance\n",
    "import shap\n",
    "from scipy.stats import loguniform, uniform\n",
    "import optuna\n",
    "import time\n",
    "\n",
    "#custom lib\n",
    "import lm_funcs\n",
    "from importlib import reload\n",
    "reload(lm_funcs)\n",
    "from lm_funcs import FeatureCreating\n",
    "from lm_funcs import ModelsEval\n",
    "from lm_funcs import Splits\n",
    "from lm_funcs import CrossValidation\n",
    "from lm_funcs import Comparasion\n",
    "from lm_funcs import FeatureSelection\n",
    "from lm_funcs import GridSearchCV, RandomSearchCV\n"
   ]
  },
  {
   "cell_type": "markdown",
   "id": "114a84d3",
   "metadata": {},
   "source": [
    "# Data loading"
   ]
  },
  {
   "cell_type": "code",
   "execution_count": 2,
   "id": "0c72b518",
   "metadata": {},
   "outputs": [],
   "source": [
    "df_train = pd.read_json(f\"data/train.json\")"
   ]
  },
  {
   "cell_type": "markdown",
   "id": "5c56707e",
   "metadata": {},
   "source": [
    "# Feature creation"
   ]
  },
  {
   "cell_type": "code",
   "execution_count": 3,
   "id": "94992376",
   "metadata": {},
   "outputs": [],
   "source": [
    "df_train['interest_level'] = df_train['interest_level'].map({'low': 0, 'medium': 1, 'high': 2})"
   ]
  },
  {
   "cell_type": "code",
   "execution_count": 4,
   "id": "9c3f8add",
   "metadata": {},
   "outputs": [],
   "source": [
    "df_train['features'] = FeatureCreating.column_clearing(df_train['features'])"
   ]
  },
  {
   "cell_type": "code",
   "execution_count": 5,
   "id": "3f959f6d",
   "metadata": {},
   "outputs": [],
   "source": [
    "all_features = []\n",
    "for index, row in df_train.iterrows():\n",
    "    features = row['features']\n",
    "    if len(features) > 0:\n",
    "        all_features.extend(features.split(\",\"))"
   ]
  },
  {
   "cell_type": "code",
   "execution_count": 6,
   "id": "275edecd",
   "metadata": {},
   "outputs": [
    {
     "name": "stdout",
     "output_type": "stream",
     "text": [
      "Number of unique values:1546\n"
     ]
    }
   ],
   "source": [
    "print(f\"Number of unique values:{len(set(all_features))}\")"
   ]
  },
  {
   "cell_type": "code",
   "execution_count": 7,
   "id": "cf8b41b7",
   "metadata": {},
   "outputs": [
    {
     "name": "stdout",
     "output_type": "stream",
     "text": [
      "The 20 most popular feature with counts:\n"
     ]
    },
    {
     "data": {
      "text/plain": [
       "[('Elevator', 25915),\n",
       " ('CatsAllowed', 23540),\n",
       " ('HardwoodFloors', 23527),\n",
       " ('DogsAllowed', 22035),\n",
       " ('Doorman', 20898),\n",
       " ('Dishwasher', 20426),\n",
       " ('NoFee', 18062),\n",
       " ('LaundryinBuilding', 16344),\n",
       " ('FitnessCenter', 13252),\n",
       " ('Pre-War', 9148),\n",
       " ('LaundryinUnit', 8738),\n",
       " ('RoofDeck', 6542),\n",
       " ('OutdoorSpace', 5268),\n",
       " ('DiningRoom', 5136),\n",
       " ('HighSpeedInternet', 4299),\n",
       " ('Balcony', 2992),\n",
       " ('SwimmingPool', 2730),\n",
       " ('LaundryInBuilding', 2593),\n",
       " ('NewConstruction', 2559),\n",
       " ('Terrace', 2283)]"
      ]
     },
     "execution_count": 7,
     "metadata": {},
     "output_type": "execute_result"
    }
   ],
   "source": [
    "print(\"The 20 most popular feature with counts:\")\n",
    "Counter(all_features).most_common(20)"
   ]
  },
  {
   "cell_type": "code",
   "execution_count": 8,
   "id": "e4553806",
   "metadata": {},
   "outputs": [],
   "source": [
    "top_20_features = [feature for feature, count in Counter(all_features).most_common(20)]"
   ]
  },
  {
   "cell_type": "code",
   "execution_count": 9,
   "id": "5f5a4d32",
   "metadata": {},
   "outputs": [],
   "source": [
    "FeatureCreating.columns_creating(top_20_features, df_train)"
   ]
  },
  {
   "cell_type": "markdown",
   "id": "7a81da21",
   "metadata": {},
   "source": [
    "##### features"
   ]
  },
  {
   "cell_type": "code",
   "execution_count": 10,
   "id": "1ec3a677",
   "metadata": {},
   "outputs": [],
   "source": [
    "feature_list = top_20_features + ['bathrooms', 'bedrooms', 'interest_level']\n",
    "random_state = 21"
   ]
  },
  {
   "cell_type": "markdown",
   "id": "5c5cf626",
   "metadata": {},
   "source": [
    "# Splits"
   ]
  },
  {
   "cell_type": "markdown",
   "id": "791f740e",
   "metadata": {},
   "source": [
    "split on test and train"
   ]
  },
  {
   "cell_type": "code",
   "execution_count": 11,
   "id": "36fb6ee2",
   "metadata": {},
   "outputs": [],
   "source": [
    "train, test = Splits().random_split_two(df_train)"
   ]
  },
  {
   "cell_type": "code",
   "execution_count": 12,
   "id": "05d13814",
   "metadata": {},
   "outputs": [
    {
     "name": "stdout",
     "output_type": "stream",
     "text": [
      "(39482, 35)\n",
      "(9870, 35)\n"
     ]
    }
   ],
   "source": [
    "print(train.shape)\n",
    "print(test.shape)"
   ]
  },
  {
   "cell_type": "markdown",
   "id": "e0b4b7c6",
   "metadata": {},
   "source": [
    "split on train, validation, test"
   ]
  },
  {
   "cell_type": "code",
   "execution_count": 13,
   "id": "17b8fe03",
   "metadata": {},
   "outputs": [],
   "source": [
    "train, validation, test = Splits().random_split_three(df_train)"
   ]
  },
  {
   "cell_type": "code",
   "execution_count": 14,
   "id": "9298cc06",
   "metadata": {},
   "outputs": [
    {
     "name": "stdout",
     "output_type": "stream",
     "text": [
      "(29612, 35)\n",
      "(9870, 35)\n",
      "(9870, 35)\n"
     ]
    }
   ],
   "source": [
    "print(train.shape)\n",
    "print(validation.shape)\n",
    "print(test.shape)"
   ]
  },
  {
   "cell_type": "markdown",
   "id": "5f8b95b8",
   "metadata": {},
   "source": [
    "split on date on train and test"
   ]
  },
  {
   "cell_type": "code",
   "execution_count": 15,
   "id": "0e66a5cf",
   "metadata": {},
   "outputs": [],
   "source": [
    "train, test = Splits().date_split_two(df_train, date_col= 'created', \n",
    "                                      date_split=df_train.loc[1002,'created'])"
   ]
  },
  {
   "cell_type": "code",
   "execution_count": 16,
   "id": "e3ffe1e3",
   "metadata": {},
   "outputs": [
    {
     "name": "stdout",
     "output_type": "stream",
     "text": [
      "(46363, 35)\n",
      "(2989, 35)\n"
     ]
    }
   ],
   "source": [
    "print(train.shape)\n",
    "print(test.shape)"
   ]
  },
  {
   "cell_type": "markdown",
   "id": "e41b0e04",
   "metadata": {},
   "source": [
    "split on date on train, validation and test"
   ]
  },
  {
   "cell_type": "code",
   "execution_count": 17,
   "id": "93e50ea5",
   "metadata": {},
   "outputs": [],
   "source": [
    "train, validation, test = Splits().date_split_three(df_train, date_col= 'created', validation_date = df_train.loc[506,'created'], test_date = df_train.loc[1002,'created'])"
   ]
  },
  {
   "cell_type": "code",
   "execution_count": 18,
   "id": "22c16723",
   "metadata": {},
   "outputs": [
    {
     "name": "stdout",
     "output_type": "stream",
     "text": [
      "(39553, 35)\n",
      "(6810, 35)\n",
      "(2989, 35)\n"
     ]
    }
   ],
   "source": [
    "print(train.shape)\n",
    "print(validation.shape)\n",
    "print(test.shape)"
   ]
  },
  {
   "cell_type": "markdown",
   "id": "51a36c5e",
   "metadata": {},
   "source": [
    "# Cross-validation"
   ]
  },
  {
   "cell_type": "markdown",
   "id": "35c06438",
   "metadata": {},
   "source": [
    "### K-Fold"
   ]
  },
  {
   "cell_type": "code",
   "execution_count": 19,
   "id": "76fb1373",
   "metadata": {},
   "outputs": [],
   "source": [
    "list_indices = CrossValidation().k_fold(df_train)\n",
    "sk_list_indices = list(KFold().split(df_train))"
   ]
  },
  {
   "cell_type": "code",
   "execution_count": 20,
   "id": "b0de941f",
   "metadata": {},
   "outputs": [
    {
     "data": {
      "text/html": [
       "<div>\n",
       "<style scoped>\n",
       "    .dataframe tbody tr th:only-of-type {\n",
       "        vertical-align: middle;\n",
       "    }\n",
       "\n",
       "    .dataframe tbody tr th {\n",
       "        vertical-align: top;\n",
       "    }\n",
       "\n",
       "    .dataframe thead th {\n",
       "        text-align: right;\n",
       "    }\n",
       "</style>\n",
       "<table border=\"1\" class=\"dataframe\">\n",
       "  <thead>\n",
       "    <tr style=\"text-align: right;\">\n",
       "      <th></th>\n",
       "      <th>jaccard</th>\n",
       "      <th>overlap</th>\n",
       "      <th>fold</th>\n",
       "    </tr>\n",
       "  </thead>\n",
       "  <tbody>\n",
       "    <tr>\n",
       "      <th>0</th>\n",
       "      <td>1.0</td>\n",
       "      <td>1.0</td>\n",
       "      <td>1</td>\n",
       "    </tr>\n",
       "    <tr>\n",
       "      <th>1</th>\n",
       "      <td>1.0</td>\n",
       "      <td>1.0</td>\n",
       "      <td>2</td>\n",
       "    </tr>\n",
       "    <tr>\n",
       "      <th>2</th>\n",
       "      <td>1.0</td>\n",
       "      <td>1.0</td>\n",
       "      <td>3</td>\n",
       "    </tr>\n",
       "    <tr>\n",
       "      <th>3</th>\n",
       "      <td>1.0</td>\n",
       "      <td>1.0</td>\n",
       "      <td>4</td>\n",
       "    </tr>\n",
       "    <tr>\n",
       "      <th>4</th>\n",
       "      <td>1.0</td>\n",
       "      <td>1.0</td>\n",
       "      <td>5</td>\n",
       "    </tr>\n",
       "  </tbody>\n",
       "</table>\n",
       "</div>"
      ],
      "text/plain": [
       "   jaccard  overlap  fold\n",
       "0      1.0      1.0     1\n",
       "1      1.0      1.0     2\n",
       "2      1.0      1.0     3\n",
       "3      1.0      1.0     4\n",
       "4      1.0      1.0     5"
      ]
     },
     "execution_count": 20,
     "metadata": {},
     "output_type": "execute_result"
    }
   ],
   "source": [
    "Comparasion.loop_for_compare_index(list_indices, sk_list_indices)"
   ]
  },
  {
   "cell_type": "code",
   "execution_count": 21,
   "id": "10238968",
   "metadata": {},
   "outputs": [
    {
     "data": {
      "text/html": [
       "<div>\n",
       "<style scoped>\n",
       "    .dataframe tbody tr th:only-of-type {\n",
       "        vertical-align: middle;\n",
       "    }\n",
       "\n",
       "    .dataframe tbody tr th {\n",
       "        vertical-align: top;\n",
       "    }\n",
       "\n",
       "    .dataframe thead th {\n",
       "        text-align: right;\n",
       "    }\n",
       "</style>\n",
       "<table border=\"1\" class=\"dataframe\">\n",
       "  <thead>\n",
       "    <tr style=\"text-align: right;\">\n",
       "      <th></th>\n",
       "      <th>same_distribution_share</th>\n",
       "      <th>all_same</th>\n",
       "      <th>fold</th>\n",
       "    </tr>\n",
       "  </thead>\n",
       "  <tbody>\n",
       "    <tr>\n",
       "      <th>0</th>\n",
       "      <td>1.0</td>\n",
       "      <td>True</td>\n",
       "      <td>1</td>\n",
       "    </tr>\n",
       "    <tr>\n",
       "      <th>1</th>\n",
       "      <td>1.0</td>\n",
       "      <td>True</td>\n",
       "      <td>2</td>\n",
       "    </tr>\n",
       "    <tr>\n",
       "      <th>2</th>\n",
       "      <td>1.0</td>\n",
       "      <td>True</td>\n",
       "      <td>3</td>\n",
       "    </tr>\n",
       "    <tr>\n",
       "      <th>3</th>\n",
       "      <td>1.0</td>\n",
       "      <td>True</td>\n",
       "      <td>4</td>\n",
       "    </tr>\n",
       "    <tr>\n",
       "      <th>4</th>\n",
       "      <td>1.0</td>\n",
       "      <td>True</td>\n",
       "      <td>5</td>\n",
       "    </tr>\n",
       "  </tbody>\n",
       "</table>\n",
       "</div>"
      ],
      "text/plain": [
       "   same_distribution_share  all_same  fold\n",
       "0                      1.0      True     1\n",
       "1                      1.0      True     2\n",
       "2                      1.0      True     3\n",
       "3                      1.0      True     4\n",
       "4                      1.0      True     5"
      ]
     },
     "execution_count": 21,
     "metadata": {},
     "output_type": "execute_result"
    }
   ],
   "source": [
    "Comparasion.loop_for_compare_distributions(list_indices, sk_list_indices, df_train)"
   ]
  },
  {
   "cell_type": "markdown",
   "id": "1db64a6b",
   "metadata": {},
   "source": [
    "### Grouped K-Fold"
   ]
  },
  {
   "cell_type": "code",
   "execution_count": 22,
   "id": "f0cf4617",
   "metadata": {},
   "outputs": [],
   "source": [
    "list_indices = CrossValidation().grouped_k_fold(df_train, group_field=\"bedrooms\")\n",
    "sk_list_indices = list(GroupKFold().split(df_train, groups=df_train.bedrooms.values))"
   ]
  },
  {
   "cell_type": "code",
   "execution_count": 23,
   "id": "d70722f1",
   "metadata": {},
   "outputs": [
    {
     "data": {
      "text/html": [
       "<div>\n",
       "<style scoped>\n",
       "    .dataframe tbody tr th:only-of-type {\n",
       "        vertical-align: middle;\n",
       "    }\n",
       "\n",
       "    .dataframe tbody tr th {\n",
       "        vertical-align: top;\n",
       "    }\n",
       "\n",
       "    .dataframe thead th {\n",
       "        text-align: right;\n",
       "    }\n",
       "</style>\n",
       "<table border=\"1\" class=\"dataframe\">\n",
       "  <thead>\n",
       "    <tr style=\"text-align: right;\">\n",
       "      <th></th>\n",
       "      <th>jaccard</th>\n",
       "      <th>overlap</th>\n",
       "      <th>fold</th>\n",
       "    </tr>\n",
       "  </thead>\n",
       "  <tbody>\n",
       "    <tr>\n",
       "      <th>0</th>\n",
       "      <td>1.0</td>\n",
       "      <td>1.0</td>\n",
       "      <td>1</td>\n",
       "    </tr>\n",
       "    <tr>\n",
       "      <th>1</th>\n",
       "      <td>1.0</td>\n",
       "      <td>1.0</td>\n",
       "      <td>2</td>\n",
       "    </tr>\n",
       "    <tr>\n",
       "      <th>2</th>\n",
       "      <td>1.0</td>\n",
       "      <td>1.0</td>\n",
       "      <td>3</td>\n",
       "    </tr>\n",
       "    <tr>\n",
       "      <th>3</th>\n",
       "      <td>1.0</td>\n",
       "      <td>1.0</td>\n",
       "      <td>4</td>\n",
       "    </tr>\n",
       "    <tr>\n",
       "      <th>4</th>\n",
       "      <td>1.0</td>\n",
       "      <td>1.0</td>\n",
       "      <td>5</td>\n",
       "    </tr>\n",
       "  </tbody>\n",
       "</table>\n",
       "</div>"
      ],
      "text/plain": [
       "   jaccard  overlap  fold\n",
       "0      1.0      1.0     1\n",
       "1      1.0      1.0     2\n",
       "2      1.0      1.0     3\n",
       "3      1.0      1.0     4\n",
       "4      1.0      1.0     5"
      ]
     },
     "execution_count": 23,
     "metadata": {},
     "output_type": "execute_result"
    }
   ],
   "source": [
    "Comparasion.loop_for_compare_index(list_indices, sk_list_indices)"
   ]
  },
  {
   "cell_type": "code",
   "execution_count": 24,
   "id": "f6dacfe5",
   "metadata": {},
   "outputs": [
    {
     "data": {
      "text/html": [
       "<div>\n",
       "<style scoped>\n",
       "    .dataframe tbody tr th:only-of-type {\n",
       "        vertical-align: middle;\n",
       "    }\n",
       "\n",
       "    .dataframe tbody tr th {\n",
       "        vertical-align: top;\n",
       "    }\n",
       "\n",
       "    .dataframe thead th {\n",
       "        text-align: right;\n",
       "    }\n",
       "</style>\n",
       "<table border=\"1\" class=\"dataframe\">\n",
       "  <thead>\n",
       "    <tr style=\"text-align: right;\">\n",
       "      <th></th>\n",
       "      <th>same_distribution_share</th>\n",
       "      <th>all_same</th>\n",
       "      <th>fold</th>\n",
       "    </tr>\n",
       "  </thead>\n",
       "  <tbody>\n",
       "    <tr>\n",
       "      <th>0</th>\n",
       "      <td>1.0</td>\n",
       "      <td>True</td>\n",
       "      <td>1</td>\n",
       "    </tr>\n",
       "    <tr>\n",
       "      <th>1</th>\n",
       "      <td>1.0</td>\n",
       "      <td>True</td>\n",
       "      <td>2</td>\n",
       "    </tr>\n",
       "    <tr>\n",
       "      <th>2</th>\n",
       "      <td>1.0</td>\n",
       "      <td>True</td>\n",
       "      <td>3</td>\n",
       "    </tr>\n",
       "    <tr>\n",
       "      <th>3</th>\n",
       "      <td>1.0</td>\n",
       "      <td>True</td>\n",
       "      <td>4</td>\n",
       "    </tr>\n",
       "    <tr>\n",
       "      <th>4</th>\n",
       "      <td>1.0</td>\n",
       "      <td>True</td>\n",
       "      <td>5</td>\n",
       "    </tr>\n",
       "  </tbody>\n",
       "</table>\n",
       "</div>"
      ],
      "text/plain": [
       "   same_distribution_share  all_same  fold\n",
       "0                      1.0      True     1\n",
       "1                      1.0      True     2\n",
       "2                      1.0      True     3\n",
       "3                      1.0      True     4\n",
       "4                      1.0      True     5"
      ]
     },
     "execution_count": 24,
     "metadata": {},
     "output_type": "execute_result"
    }
   ],
   "source": [
    "Comparasion.loop_for_compare_distributions(list_indices, sk_list_indices, df_train)"
   ]
  },
  {
   "cell_type": "markdown",
   "id": "7daf8ee1",
   "metadata": {},
   "source": [
    "### Stratified K-Fold"
   ]
  },
  {
   "cell_type": "code",
   "execution_count": 25,
   "id": "402cd2bd",
   "metadata": {},
   "outputs": [
    {
     "name": "stderr",
     "output_type": "stream",
     "text": [
      "/home/alagis/jannmart/lib/python3.12/site-packages/sklearn/model_selection/_split.py:811: UserWarning: The least populated class in y has only 2 members, which is less than n_splits=5.\n",
      "  warnings.warn(\n"
     ]
    }
   ],
   "source": [
    "list_indices = CrossValidation().stratified_k_fold(df_train, stratify_field=\"bedrooms\")\n",
    "sk_list_indices = list(StratifiedKFold().split(df_train, df_train['bedrooms']))"
   ]
  },
  {
   "cell_type": "code",
   "execution_count": 26,
   "id": "90513002",
   "metadata": {},
   "outputs": [
    {
     "data": {
      "text/html": [
       "<div>\n",
       "<style scoped>\n",
       "    .dataframe tbody tr th:only-of-type {\n",
       "        vertical-align: middle;\n",
       "    }\n",
       "\n",
       "    .dataframe tbody tr th {\n",
       "        vertical-align: top;\n",
       "    }\n",
       "\n",
       "    .dataframe thead th {\n",
       "        text-align: right;\n",
       "    }\n",
       "</style>\n",
       "<table border=\"1\" class=\"dataframe\">\n",
       "  <thead>\n",
       "    <tr style=\"text-align: right;\">\n",
       "      <th></th>\n",
       "      <th>jaccard</th>\n",
       "      <th>overlap</th>\n",
       "      <th>fold</th>\n",
       "    </tr>\n",
       "  </thead>\n",
       "  <tbody>\n",
       "    <tr>\n",
       "      <th>0</th>\n",
       "      <td>0.999899</td>\n",
       "      <td>1.000000</td>\n",
       "      <td>1</td>\n",
       "    </tr>\n",
       "    <tr>\n",
       "      <th>1</th>\n",
       "      <td>0.999797</td>\n",
       "      <td>0.999924</td>\n",
       "      <td>2</td>\n",
       "    </tr>\n",
       "    <tr>\n",
       "      <th>2</th>\n",
       "      <td>0.999823</td>\n",
       "      <td>0.999899</td>\n",
       "      <td>3</td>\n",
       "    </tr>\n",
       "    <tr>\n",
       "      <th>3</th>\n",
       "      <td>0.999848</td>\n",
       "      <td>0.999899</td>\n",
       "      <td>4</td>\n",
       "    </tr>\n",
       "    <tr>\n",
       "      <th>4</th>\n",
       "      <td>0.999924</td>\n",
       "      <td>0.999924</td>\n",
       "      <td>5</td>\n",
       "    </tr>\n",
       "  </tbody>\n",
       "</table>\n",
       "</div>"
      ],
      "text/plain": [
       "    jaccard   overlap  fold\n",
       "0  0.999899  1.000000     1\n",
       "1  0.999797  0.999924     2\n",
       "2  0.999823  0.999899     3\n",
       "3  0.999848  0.999899     4\n",
       "4  0.999924  0.999924     5"
      ]
     },
     "execution_count": 26,
     "metadata": {},
     "output_type": "execute_result"
    }
   ],
   "source": [
    "Comparasion.loop_for_compare_index(list_indices, sk_list_indices)"
   ]
  },
  {
   "cell_type": "code",
   "execution_count": 27,
   "id": "a9fea2a5",
   "metadata": {},
   "outputs": [
    {
     "data": {
      "text/html": [
       "<div>\n",
       "<style scoped>\n",
       "    .dataframe tbody tr th:only-of-type {\n",
       "        vertical-align: middle;\n",
       "    }\n",
       "\n",
       "    .dataframe tbody tr th {\n",
       "        vertical-align: top;\n",
       "    }\n",
       "\n",
       "    .dataframe thead th {\n",
       "        text-align: right;\n",
       "    }\n",
       "</style>\n",
       "<table border=\"1\" class=\"dataframe\">\n",
       "  <thead>\n",
       "    <tr style=\"text-align: right;\">\n",
       "      <th></th>\n",
       "      <th>same_distribution_share</th>\n",
       "      <th>all_same</th>\n",
       "      <th>fold</th>\n",
       "    </tr>\n",
       "  </thead>\n",
       "  <tbody>\n",
       "    <tr>\n",
       "      <th>0</th>\n",
       "      <td>1.0</td>\n",
       "      <td>True</td>\n",
       "      <td>1</td>\n",
       "    </tr>\n",
       "    <tr>\n",
       "      <th>1</th>\n",
       "      <td>1.0</td>\n",
       "      <td>True</td>\n",
       "      <td>2</td>\n",
       "    </tr>\n",
       "    <tr>\n",
       "      <th>2</th>\n",
       "      <td>1.0</td>\n",
       "      <td>True</td>\n",
       "      <td>3</td>\n",
       "    </tr>\n",
       "    <tr>\n",
       "      <th>3</th>\n",
       "      <td>1.0</td>\n",
       "      <td>True</td>\n",
       "      <td>4</td>\n",
       "    </tr>\n",
       "    <tr>\n",
       "      <th>4</th>\n",
       "      <td>1.0</td>\n",
       "      <td>True</td>\n",
       "      <td>5</td>\n",
       "    </tr>\n",
       "  </tbody>\n",
       "</table>\n",
       "</div>"
      ],
      "text/plain": [
       "   same_distribution_share  all_same  fold\n",
       "0                      1.0      True     1\n",
       "1                      1.0      True     2\n",
       "2                      1.0      True     3\n",
       "3                      1.0      True     4\n",
       "4                      1.0      True     5"
      ]
     },
     "execution_count": 27,
     "metadata": {},
     "output_type": "execute_result"
    }
   ],
   "source": [
    "Comparasion.loop_for_compare_distributions(list_indices, sk_list_indices, df_train)"
   ]
  },
  {
   "cell_type": "markdown",
   "id": "5fea6fcd",
   "metadata": {},
   "source": [
    "### Time series split"
   ]
  },
  {
   "cell_type": "code",
   "execution_count": 28,
   "id": "6f9fce10",
   "metadata": {},
   "outputs": [],
   "source": [
    "list_indices = CrossValidation().time_series_split(df_train, date_field=\"created\")\n",
    "sk_list_indices = list(TimeSeriesSplit().split(df_train.sort_values(by = 'created')))"
   ]
  },
  {
   "cell_type": "code",
   "execution_count": 29,
   "id": "611dcfce",
   "metadata": {},
   "outputs": [
    {
     "data": {
      "text/html": [
       "<div>\n",
       "<style scoped>\n",
       "    .dataframe tbody tr th:only-of-type {\n",
       "        vertical-align: middle;\n",
       "    }\n",
       "\n",
       "    .dataframe tbody tr th {\n",
       "        vertical-align: top;\n",
       "    }\n",
       "\n",
       "    .dataframe thead th {\n",
       "        text-align: right;\n",
       "    }\n",
       "</style>\n",
       "<table border=\"1\" class=\"dataframe\">\n",
       "  <thead>\n",
       "    <tr style=\"text-align: right;\">\n",
       "      <th></th>\n",
       "      <th>jaccard</th>\n",
       "      <th>overlap</th>\n",
       "      <th>fold</th>\n",
       "    </tr>\n",
       "  </thead>\n",
       "  <tbody>\n",
       "    <tr>\n",
       "      <th>0</th>\n",
       "      <td>0.999757</td>\n",
       "      <td>1.0</td>\n",
       "      <td>1</td>\n",
       "    </tr>\n",
       "    <tr>\n",
       "      <th>1</th>\n",
       "      <td>0.999878</td>\n",
       "      <td>1.0</td>\n",
       "      <td>2</td>\n",
       "    </tr>\n",
       "    <tr>\n",
       "      <th>2</th>\n",
       "      <td>0.999919</td>\n",
       "      <td>1.0</td>\n",
       "      <td>3</td>\n",
       "    </tr>\n",
       "    <tr>\n",
       "      <th>3</th>\n",
       "      <td>0.999939</td>\n",
       "      <td>1.0</td>\n",
       "      <td>4</td>\n",
       "    </tr>\n",
       "    <tr>\n",
       "      <th>4</th>\n",
       "      <td>0.999951</td>\n",
       "      <td>1.0</td>\n",
       "      <td>5</td>\n",
       "    </tr>\n",
       "  </tbody>\n",
       "</table>\n",
       "</div>"
      ],
      "text/plain": [
       "    jaccard  overlap  fold\n",
       "0  0.999757      1.0     1\n",
       "1  0.999878      1.0     2\n",
       "2  0.999919      1.0     3\n",
       "3  0.999939      1.0     4\n",
       "4  0.999951      1.0     5"
      ]
     },
     "execution_count": 29,
     "metadata": {},
     "output_type": "execute_result"
    }
   ],
   "source": [
    "Comparasion.loop_for_compare_index(list_indices, sk_list_indices)"
   ]
  },
  {
   "cell_type": "code",
   "execution_count": 30,
   "id": "e2d30c49",
   "metadata": {},
   "outputs": [
    {
     "data": {
      "text/html": [
       "<div>\n",
       "<style scoped>\n",
       "    .dataframe tbody tr th:only-of-type {\n",
       "        vertical-align: middle;\n",
       "    }\n",
       "\n",
       "    .dataframe tbody tr th {\n",
       "        vertical-align: top;\n",
       "    }\n",
       "\n",
       "    .dataframe thead th {\n",
       "        text-align: right;\n",
       "    }\n",
       "</style>\n",
       "<table border=\"1\" class=\"dataframe\">\n",
       "  <thead>\n",
       "    <tr style=\"text-align: right;\">\n",
       "      <th></th>\n",
       "      <th>same_distribution_share</th>\n",
       "      <th>all_same</th>\n",
       "      <th>fold</th>\n",
       "    </tr>\n",
       "  </thead>\n",
       "  <tbody>\n",
       "    <tr>\n",
       "      <th>0</th>\n",
       "      <td>1.0</td>\n",
       "      <td>True</td>\n",
       "      <td>1</td>\n",
       "    </tr>\n",
       "    <tr>\n",
       "      <th>1</th>\n",
       "      <td>1.0</td>\n",
       "      <td>True</td>\n",
       "      <td>2</td>\n",
       "    </tr>\n",
       "    <tr>\n",
       "      <th>2</th>\n",
       "      <td>1.0</td>\n",
       "      <td>True</td>\n",
       "      <td>3</td>\n",
       "    </tr>\n",
       "    <tr>\n",
       "      <th>3</th>\n",
       "      <td>1.0</td>\n",
       "      <td>True</td>\n",
       "      <td>4</td>\n",
       "    </tr>\n",
       "    <tr>\n",
       "      <th>4</th>\n",
       "      <td>1.0</td>\n",
       "      <td>True</td>\n",
       "      <td>5</td>\n",
       "    </tr>\n",
       "  </tbody>\n",
       "</table>\n",
       "</div>"
      ],
      "text/plain": [
       "   same_distribution_share  all_same  fold\n",
       "0                      1.0      True     1\n",
       "1                      1.0      True     2\n",
       "2                      1.0      True     3\n",
       "3                      1.0      True     4\n",
       "4                      1.0      True     5"
      ]
     },
     "execution_count": 30,
     "metadata": {},
     "output_type": "execute_result"
    }
   ],
   "source": [
    "Comparasion.loop_for_compare_distributions(list_indices, sk_list_indices, df_train)"
   ]
  },
  {
   "cell_type": "markdown",
   "id": "d46ab549",
   "metadata": {},
   "source": [
    "### In this task target variable is continuous, time doesn't matter and there`no groups - so simple K-Fold CV is suitable"
   ]
  },
  {
   "cell_type": "markdown",
   "id": "78728534",
   "metadata": {},
   "source": [
    "# Feature selection"
   ]
  },
  {
   "cell_type": "markdown",
   "id": "ec9e50a9",
   "metadata": {},
   "source": [
    "### Split to train, validation and test"
   ]
  },
  {
   "cell_type": "code",
   "execution_count": 31,
   "id": "e4ea7e09",
   "metadata": {},
   "outputs": [],
   "source": [
    "df_train[['bathrooms', 'bedrooms']] = df_train[['bathrooms', 'bedrooms']].astype(float)"
   ]
  },
  {
   "cell_type": "code",
   "execution_count": 32,
   "id": "1f3e8f20",
   "metadata": {},
   "outputs": [],
   "source": [
    "train, validation, test = Splits().random_split_three(df_train, test_size=0.2, validation_size=0.2, random_state=21)"
   ]
  },
  {
   "cell_type": "code",
   "execution_count": 33,
   "id": "3d9578b8",
   "metadata": {},
   "outputs": [],
   "source": [
    "X_train, y_train = train[feature_list], train[\"price\"]\n",
    "X_validation, y_validation = validation[feature_list], validation[\"price\"]\n",
    "X_test, y_test = test[feature_list], test[\"price\"]"
   ]
  },
  {
   "cell_type": "code",
   "execution_count": 34,
   "id": "49667271",
   "metadata": {},
   "outputs": [],
   "source": [
    "scaler = StandardScaler()\n",
    "X_train.loc[:,['bathrooms', 'bedrooms']] = scaler.fit_transform(X_train[['bathrooms', 'bedrooms']])\n",
    "X_validation.loc[:,['bathrooms', 'bedrooms']]  = scaler.transform(X_validation[['bathrooms', 'bedrooms']])\n",
    "X_test.loc[:,['bathrooms', 'bedrooms']] = scaler.transform(X_test[['bathrooms', 'bedrooms']])"
   ]
  },
  {
   "cell_type": "markdown",
   "id": "7c5bb272",
   "metadata": {},
   "source": [
    "### models fiting"
   ]
  },
  {
   "cell_type": "code",
   "execution_count": 35,
   "id": "465277a2",
   "metadata": {},
   "outputs": [],
   "source": [
    "models_eval_fs = ModelsEval()"
   ]
  },
  {
   "cell_type": "code",
   "execution_count": 36,
   "id": "8264bc37",
   "metadata": {},
   "outputs": [],
   "source": [
    "models_eval_fs.fit_model_with_evaluation(\"on_all_feature\", X_train, y_train, X_validation, \n",
    "                                         y_validation, X_test, y_test, 0.0, feature_list)"
   ]
  },
  {
   "cell_type": "code",
   "execution_count": 37,
   "id": "53337cca",
   "metadata": {},
   "outputs": [],
   "source": [
    "start_time = time.time()\n",
    "reg_lasso = Lasso().fit(X_train, y_train)\n",
    "end_time = time.time()\n",
    "training_time = end_time - start_time\n",
    "\n",
    "lasso_coef = pd.DataFrame({\n",
    "    'feature':X_train.columns,\n",
    "    'coef':reg_lasso.coef_})\n",
    "lasso_coef = lasso_coef.sort_values(by = 'coef', key = lambda x: x.abs(), ascending = False)"
   ]
  },
  {
   "cell_type": "code",
   "execution_count": 38,
   "id": "f14c10f1",
   "metadata": {},
   "outputs": [
    {
     "data": {
      "text/html": [
       "<div>\n",
       "<style scoped>\n",
       "    .dataframe tbody tr th:only-of-type {\n",
       "        vertical-align: middle;\n",
       "    }\n",
       "\n",
       "    .dataframe tbody tr th {\n",
       "        vertical-align: top;\n",
       "    }\n",
       "\n",
       "    .dataframe thead th {\n",
       "        text-align: right;\n",
       "    }\n",
       "</style>\n",
       "<table border=\"1\" class=\"dataframe\">\n",
       "  <thead>\n",
       "    <tr style=\"text-align: right;\">\n",
       "      <th></th>\n",
       "      <th>feature</th>\n",
       "      <th>coef</th>\n",
       "    </tr>\n",
       "  </thead>\n",
       "  <tbody>\n",
       "    <tr>\n",
       "      <th>4</th>\n",
       "      <td>Doorman</td>\n",
       "      <td>1340.85</td>\n",
       "    </tr>\n",
       "    <tr>\n",
       "      <th>20</th>\n",
       "      <td>bathrooms</td>\n",
       "      <td>1054.12</td>\n",
       "    </tr>\n",
       "    <tr>\n",
       "      <th>21</th>\n",
       "      <td>bedrooms</td>\n",
       "      <td>683.55</td>\n",
       "    </tr>\n",
       "    <tr>\n",
       "      <th>0</th>\n",
       "      <td>Elevator</td>\n",
       "      <td>659.98</td>\n",
       "    </tr>\n",
       "    <tr>\n",
       "      <th>17</th>\n",
       "      <td>LaundryInBuilding</td>\n",
       "      <td>-612.75</td>\n",
       "    </tr>\n",
       "    <tr>\n",
       "      <th>7</th>\n",
       "      <td>LaundryinBuilding</td>\n",
       "      <td>-582.28</td>\n",
       "    </tr>\n",
       "    <tr>\n",
       "      <th>10</th>\n",
       "      <td>LaundryinUnit</td>\n",
       "      <td>527.74</td>\n",
       "    </tr>\n",
       "    <tr>\n",
       "      <th>22</th>\n",
       "      <td>interest_level</td>\n",
       "      <td>-506.85</td>\n",
       "    </tr>\n",
       "    <tr>\n",
       "      <th>8</th>\n",
       "      <td>FitnessCenter</td>\n",
       "      <td>-435.42</td>\n",
       "    </tr>\n",
       "    <tr>\n",
       "      <th>19</th>\n",
       "      <td>Terrace</td>\n",
       "      <td>416.04</td>\n",
       "    </tr>\n",
       "  </tbody>\n",
       "</table>\n",
       "</div>"
      ],
      "text/plain": [
       "              feature    coef\n",
       "4             Doorman 1340.85\n",
       "20          bathrooms 1054.12\n",
       "21           bedrooms  683.55\n",
       "0            Elevator  659.98\n",
       "17  LaundryInBuilding -612.75\n",
       "7   LaundryinBuilding -582.28\n",
       "10      LaundryinUnit  527.74\n",
       "22     interest_level -506.85\n",
       "8       FitnessCenter -435.42\n",
       "19            Terrace  416.04"
      ]
     },
     "execution_count": 38,
     "metadata": {},
     "output_type": "execute_result"
    }
   ],
   "source": [
    "lasso_coef.head(10)"
   ]
  },
  {
   "cell_type": "code",
   "execution_count": 39,
   "id": "47f88cd4",
   "metadata": {},
   "outputs": [],
   "source": [
    "models_eval_fs.fit_model_with_evaluation(\"10_fs_from_lasso\", X_train, y_train, X_validation, \n",
    "                                         y_validation, X_test, y_test, training_time, lasso_coef.head(10).feature)"
   ]
  },
  {
   "cell_type": "code",
   "execution_count": 40,
   "id": "3a452317",
   "metadata": {},
   "outputs": [
    {
     "name": "stdout",
     "output_type": "stream",
     "text": [
      "Не удалось набрать 10 признаков при текущих условиях: \n",
      "-max_nan_ratio = 0.10; \n",
      "-min_corr = 0.10. \n",
      "Ослабляем фильтры и повторяем...\n",
      "Не удалось набрать 10 признаков при текущих условиях: \n",
      "-max_nan_ratio = 0.15; \n",
      "-min_corr = 0.05. \n",
      "Ослабляем фильтры и повторяем...\n"
     ]
    }
   ],
   "source": [
    "start_time = time.time()\n",
    "selected_10_nan_corr = FeatureSelection.select_features_by_nan_corr(X_train, y_train, n_features=10)\n",
    "end_time = time.time()\n",
    "training_time = end_time - start_time"
   ]
  },
  {
   "cell_type": "code",
   "execution_count": 41,
   "id": "f59f9ecc",
   "metadata": {},
   "outputs": [
    {
     "data": {
      "text/plain": [
       "['bedrooms',\n",
       " 'bathrooms',\n",
       " 'interest_level',\n",
       " 'Doorman',\n",
       " 'LaundryinUnit',\n",
       " 'DiningRoom',\n",
       " 'Elevator',\n",
       " 'Terrace',\n",
       " 'DogsAllowed',\n",
       " 'FitnessCenter']"
      ]
     },
     "execution_count": 41,
     "metadata": {},
     "output_type": "execute_result"
    }
   ],
   "source": [
    "selected_10_nan_corr"
   ]
  },
  {
   "cell_type": "code",
   "execution_count": 42,
   "id": "09269c24",
   "metadata": {},
   "outputs": [],
   "source": [
    "models_eval_fs.fit_model_with_evaluation(\"10_fs_nan_corr\", X_train, y_train, X_validation, \n",
    "                                         y_validation, X_test, y_test, training_time, selected_10_nan_corr)"
   ]
  },
  {
   "cell_type": "code",
   "execution_count": 43,
   "id": "dcfb3622",
   "metadata": {},
   "outputs": [],
   "source": [
    "start_time = time.time()\n",
    "selected_10_permutation = FeatureSelection.permutation_importance(Lasso().fit(X_train, y_train), \n",
    "                                                                  X_validation, y_validation, n_features=10,\n",
    "                                                                  random_state=random_state)\n",
    "end_time = time.time()\n",
    "training_time = end_time - start_time"
   ]
  },
  {
   "cell_type": "code",
   "execution_count": 44,
   "id": "c97d4d36",
   "metadata": {},
   "outputs": [
    {
     "data": {
      "text/html": [
       "<div>\n",
       "<style scoped>\n",
       "    .dataframe tbody tr th:only-of-type {\n",
       "        vertical-align: middle;\n",
       "    }\n",
       "\n",
       "    .dataframe tbody tr th {\n",
       "        vertical-align: top;\n",
       "    }\n",
       "\n",
       "    .dataframe thead th {\n",
       "        text-align: right;\n",
       "    }\n",
       "</style>\n",
       "<table border=\"1\" class=\"dataframe\">\n",
       "  <thead>\n",
       "    <tr style=\"text-align: right;\">\n",
       "      <th></th>\n",
       "      <th>Feature</th>\n",
       "      <th>Importance</th>\n",
       "    </tr>\n",
       "  </thead>\n",
       "  <tbody>\n",
       "    <tr>\n",
       "      <th>0</th>\n",
       "      <td>bathrooms</td>\n",
       "      <td>322.59</td>\n",
       "    </tr>\n",
       "    <tr>\n",
       "      <th>1</th>\n",
       "      <td>bedrooms</td>\n",
       "      <td>240.19</td>\n",
       "    </tr>\n",
       "    <tr>\n",
       "      <th>2</th>\n",
       "      <td>Doorman</td>\n",
       "      <td>196.20</td>\n",
       "    </tr>\n",
       "    <tr>\n",
       "      <th>3</th>\n",
       "      <td>interest_level</td>\n",
       "      <td>48.20</td>\n",
       "    </tr>\n",
       "    <tr>\n",
       "      <th>4</th>\n",
       "      <td>LaundryinBuilding</td>\n",
       "      <td>44.55</td>\n",
       "    </tr>\n",
       "    <tr>\n",
       "      <th>5</th>\n",
       "      <td>Elevator</td>\n",
       "      <td>39.80</td>\n",
       "    </tr>\n",
       "    <tr>\n",
       "      <th>6</th>\n",
       "      <td>LaundryinUnit</td>\n",
       "      <td>32.72</td>\n",
       "    </tr>\n",
       "    <tr>\n",
       "      <th>7</th>\n",
       "      <td>FitnessCenter</td>\n",
       "      <td>29.00</td>\n",
       "    </tr>\n",
       "    <tr>\n",
       "      <th>8</th>\n",
       "      <td>LaundryInBuilding</td>\n",
       "      <td>11.18</td>\n",
       "    </tr>\n",
       "    <tr>\n",
       "      <th>9</th>\n",
       "      <td>DogsAllowed</td>\n",
       "      <td>6.56</td>\n",
       "    </tr>\n",
       "  </tbody>\n",
       "</table>\n",
       "</div>"
      ],
      "text/plain": [
       "             Feature  Importance\n",
       "0          bathrooms      322.59\n",
       "1           bedrooms      240.19\n",
       "2            Doorman      196.20\n",
       "3     interest_level       48.20\n",
       "4  LaundryinBuilding       44.55\n",
       "5           Elevator       39.80\n",
       "6      LaundryinUnit       32.72\n",
       "7      FitnessCenter       29.00\n",
       "8  LaundryInBuilding       11.18\n",
       "9        DogsAllowed        6.56"
      ]
     },
     "execution_count": 44,
     "metadata": {},
     "output_type": "execute_result"
    }
   ],
   "source": [
    "selected_10_permutation"
   ]
  },
  {
   "cell_type": "code",
   "execution_count": 45,
   "id": "884f8b5e",
   "metadata": {},
   "outputs": [
    {
     "data": {
      "text/html": [
       "<div>\n",
       "<style scoped>\n",
       "    .dataframe tbody tr th:only-of-type {\n",
       "        vertical-align: middle;\n",
       "    }\n",
       "\n",
       "    .dataframe tbody tr th {\n",
       "        vertical-align: top;\n",
       "    }\n",
       "\n",
       "    .dataframe thead th {\n",
       "        text-align: right;\n",
       "    }\n",
       "</style>\n",
       "<table border=\"1\" class=\"dataframe\">\n",
       "  <thead>\n",
       "    <tr style=\"text-align: right;\">\n",
       "      <th></th>\n",
       "      <th>score</th>\n",
       "    </tr>\n",
       "  </thead>\n",
       "  <tbody>\n",
       "    <tr>\n",
       "      <th>bathrooms</th>\n",
       "      <td>326.59</td>\n",
       "    </tr>\n",
       "    <tr>\n",
       "      <th>bedrooms</th>\n",
       "      <td>237.82</td>\n",
       "    </tr>\n",
       "    <tr>\n",
       "      <th>Doorman</th>\n",
       "      <td>202.35</td>\n",
       "    </tr>\n",
       "    <tr>\n",
       "      <th>interest_level</th>\n",
       "      <td>46.68</td>\n",
       "    </tr>\n",
       "    <tr>\n",
       "      <th>LaundryinBuilding</th>\n",
       "      <td>41.32</td>\n",
       "    </tr>\n",
       "    <tr>\n",
       "      <th>Elevator</th>\n",
       "      <td>39.31</td>\n",
       "    </tr>\n",
       "    <tr>\n",
       "      <th>LaundryinUnit</th>\n",
       "      <td>31.98</td>\n",
       "    </tr>\n",
       "    <tr>\n",
       "      <th>FitnessCenter</th>\n",
       "      <td>27.39</td>\n",
       "    </tr>\n",
       "    <tr>\n",
       "      <th>LaundryInBuilding</th>\n",
       "      <td>10.67</td>\n",
       "    </tr>\n",
       "    <tr>\n",
       "      <th>DogsAllowed</th>\n",
       "      <td>5.80</td>\n",
       "    </tr>\n",
       "  </tbody>\n",
       "</table>\n",
       "</div>"
      ],
      "text/plain": [
       "                   score\n",
       "bathrooms         326.59\n",
       "bedrooms          237.82\n",
       "Doorman           202.35\n",
       "interest_level     46.68\n",
       "LaundryinBuilding  41.32\n",
       "Elevator           39.31\n",
       "LaundryinUnit      31.98\n",
       "FitnessCenter      27.39\n",
       "LaundryInBuilding  10.67\n",
       "DogsAllowed         5.80"
      ]
     },
     "execution_count": 45,
     "metadata": {},
     "output_type": "execute_result"
    }
   ],
   "source": [
    "pd.DataFrame(permutation_importance(Lasso().fit(X_train, y_train), X_validation, \n",
    "                       y_validation, n_repeats=10, scoring='neg_mean_absolute_error')['importances_mean'], index=X_validation.columns, columns = ['score']).sort_values(by='score', ascending=False).head(10)"
   ]
  },
  {
   "cell_type": "code",
   "execution_count": 46,
   "id": "0b660ea6",
   "metadata": {},
   "outputs": [],
   "source": [
    "models_eval_fs.fit_model_with_evaluation(\"10_fs_permutation\", X_train, y_train, X_validation, \n",
    "                                         y_validation, X_test, y_test, training_time, selected_10_permutation.Feature)"
   ]
  },
  {
   "cell_type": "code",
   "execution_count": 47,
   "id": "d0af6dcf",
   "metadata": {},
   "outputs": [],
   "source": [
    "start_time = time.time()\n",
    "explainer = shap.LinearExplainer(reg_lasso, X_validation)\n",
    "shap_values = explainer.shap_values(X_validation)\n",
    "importance_df = pd.DataFrame({\n",
    "    'Feature': X_validation.columns,\n",
    "    'Importance': np.abs(shap_values).mean(axis=0)\n",
    "})\n",
    "selected_10_shap = importance_df.sort_values(by='Importance', ascending=False).head(10)\n",
    "end_time = time.time()\n",
    "training_time = end_time - start_time\n"
   ]
  },
  {
   "cell_type": "code",
   "execution_count": 48,
   "id": "6a11ae49",
   "metadata": {},
   "outputs": [
    {
     "data": {
      "text/html": [
       "<div>\n",
       "<style scoped>\n",
       "    .dataframe tbody tr th:only-of-type {\n",
       "        vertical-align: middle;\n",
       "    }\n",
       "\n",
       "    .dataframe tbody tr th {\n",
       "        vertical-align: top;\n",
       "    }\n",
       "\n",
       "    .dataframe thead th {\n",
       "        text-align: right;\n",
       "    }\n",
       "</style>\n",
       "<table border=\"1\" class=\"dataframe\">\n",
       "  <thead>\n",
       "    <tr style=\"text-align: right;\">\n",
       "      <th></th>\n",
       "      <th>Feature</th>\n",
       "      <th>Importance</th>\n",
       "    </tr>\n",
       "  </thead>\n",
       "  <tbody>\n",
       "    <tr>\n",
       "      <th>20</th>\n",
       "      <td>bathrooms</td>\n",
       "      <td>777.60</td>\n",
       "    </tr>\n",
       "    <tr>\n",
       "      <th>4</th>\n",
       "      <td>Doorman</td>\n",
       "      <td>653.50</td>\n",
       "    </tr>\n",
       "    <tr>\n",
       "      <th>21</th>\n",
       "      <td>bedrooms</td>\n",
       "      <td>576.64</td>\n",
       "    </tr>\n",
       "    <tr>\n",
       "      <th>0</th>\n",
       "      <td>Elevator</td>\n",
       "      <td>329.21</td>\n",
       "    </tr>\n",
       "    <tr>\n",
       "      <th>22</th>\n",
       "      <td>interest_level</td>\n",
       "      <td>257.80</td>\n",
       "    </tr>\n",
       "    <tr>\n",
       "      <th>7</th>\n",
       "      <td>LaundryinBuilding</td>\n",
       "      <td>256.50</td>\n",
       "    </tr>\n",
       "    <tr>\n",
       "      <th>3</th>\n",
       "      <td>DogsAllowed</td>\n",
       "      <td>197.30</td>\n",
       "    </tr>\n",
       "    <tr>\n",
       "      <th>10</th>\n",
       "      <td>LaundryinUnit</td>\n",
       "      <td>158.98</td>\n",
       "    </tr>\n",
       "    <tr>\n",
       "      <th>8</th>\n",
       "      <td>FitnessCenter</td>\n",
       "      <td>158.58</td>\n",
       "    </tr>\n",
       "    <tr>\n",
       "      <th>6</th>\n",
       "      <td>NoFee</td>\n",
       "      <td>139.32</td>\n",
       "    </tr>\n",
       "  </tbody>\n",
       "</table>\n",
       "</div>"
      ],
      "text/plain": [
       "              Feature  Importance\n",
       "20          bathrooms      777.60\n",
       "4             Doorman      653.50\n",
       "21           bedrooms      576.64\n",
       "0            Elevator      329.21\n",
       "22     interest_level      257.80\n",
       "7   LaundryinBuilding      256.50\n",
       "3         DogsAllowed      197.30\n",
       "10      LaundryinUnit      158.98\n",
       "8       FitnessCenter      158.58\n",
       "6               NoFee      139.32"
      ]
     },
     "execution_count": 48,
     "metadata": {},
     "output_type": "execute_result"
    }
   ],
   "source": [
    "selected_10_shap"
   ]
  },
  {
   "cell_type": "code",
   "execution_count": 49,
   "id": "dc0a12ca",
   "metadata": {},
   "outputs": [],
   "source": [
    "models_eval_fs.fit_model_with_evaluation(\"10_fs_shap\", X_train, y_train, X_validation, \n",
    "                                         y_validation, X_test, y_test, training_time, selected_10_shap.Feature)"
   ]
  },
  {
   "cell_type": "code",
   "execution_count": 50,
   "id": "c25ef4f5",
   "metadata": {},
   "outputs": [
    {
     "name": "stdout",
     "output_type": "stream",
     "text": [
      "MAE Results:\n",
      "               model   train     val    test\n",
      "0     on_all_feature 1120.47 1212.92 1094.56\n",
      "1   10_fs_from_lasso 1095.73 1186.13 1063.27\n",
      "2     10_fs_nan_corr 1088.24 1174.59 1062.05\n",
      "3  10_fs_permutation 1104.27 1193.03 1075.75\n",
      "4         10_fs_shap 1109.78 1198.87 1081.11\n",
      "\n",
      "RMSE Results:\n",
      "               model    train      val     test\n",
      "0     on_all_feature 26124.74 15898.46 10869.79\n",
      "1   10_fs_from_lasso 26126.62 15902.32 10870.91\n",
      "2     10_fs_nan_corr 26127.95 15905.17 10871.42\n",
      "3  10_fs_permutation 26126.01 15900.25 10870.76\n",
      "4         10_fs_shap 26125.89 15900.12 10870.04\n",
      "\n",
      "R2 Results (in %):\n",
      "               model  train  val  test\n",
      "0     on_all_feature   0.48 1.26  2.50\n",
      "1   10_fs_from_lasso   0.47 1.21  2.48\n",
      "2     10_fs_nan_corr   0.46 1.17  2.47\n",
      "3  10_fs_permutation   0.48 1.23  2.48\n",
      "4         10_fs_shap   0.48 1.23  2.49\n",
      "\n",
      "Find features timing (in sec):\n",
      "               model  find_fs_time\n",
      "0     on_all_feature          0.00\n",
      "1   10_fs_from_lasso          0.07\n",
      "2     10_fs_nan_corr          0.78\n",
      "3  10_fs_permutation          0.58\n",
      "4         10_fs_shap          0.01\n"
     ]
    }
   ],
   "source": [
    "models_eval_fs.show_results()"
   ]
  },
  {
   "cell_type": "code",
   "execution_count": 51,
   "id": "46dbf110",
   "metadata": {},
   "outputs": [
    {
     "data": {
      "text/html": [
       "<div>\n",
       "<style scoped>\n",
       "    .dataframe tbody tr th:only-of-type {\n",
       "        vertical-align: middle;\n",
       "    }\n",
       "\n",
       "    .dataframe tbody tr th {\n",
       "        vertical-align: top;\n",
       "    }\n",
       "\n",
       "    .dataframe thead th {\n",
       "        text-align: right;\n",
       "    }\n",
       "</style>\n",
       "<table border=\"1\" class=\"dataframe\">\n",
       "  <thead>\n",
       "    <tr style=\"text-align: right;\">\n",
       "      <th></th>\n",
       "      <th>model</th>\n",
       "      <th>total_score</th>\n",
       "      <th>train_quality_score_norm</th>\n",
       "      <th>stability_score_rmse_norm</th>\n",
       "      <th>time_score_norm</th>\n",
       "    </tr>\n",
       "  </thead>\n",
       "  <tbody>\n",
       "    <tr>\n",
       "      <th>0</th>\n",
       "      <td>on_all_feature</td>\n",
       "      <td>1.00</td>\n",
       "      <td>1.00</td>\n",
       "      <td>1.00</td>\n",
       "      <td>1.00</td>\n",
       "    </tr>\n",
       "    <tr>\n",
       "      <th>1</th>\n",
       "      <td>10_fs_shap</td>\n",
       "      <td>0.65</td>\n",
       "      <td>0.64</td>\n",
       "      <td>0.43</td>\n",
       "      <td>0.99</td>\n",
       "    </tr>\n",
       "    <tr>\n",
       "      <th>2</th>\n",
       "      <td>10_fs_permutation</td>\n",
       "      <td>0.59</td>\n",
       "      <td>0.60</td>\n",
       "      <td>0.80</td>\n",
       "      <td>0.26</td>\n",
       "    </tr>\n",
       "    <tr>\n",
       "      <th>3</th>\n",
       "      <td>10_fs_from_lasso</td>\n",
       "      <td>0.54</td>\n",
       "      <td>0.41</td>\n",
       "      <td>0.52</td>\n",
       "      <td>0.91</td>\n",
       "    </tr>\n",
       "    <tr>\n",
       "      <th>4</th>\n",
       "      <td>10_fs_nan_corr</td>\n",
       "      <td>0.00</td>\n",
       "      <td>0.00</td>\n",
       "      <td>0.00</td>\n",
       "      <td>0.00</td>\n",
       "    </tr>\n",
       "  </tbody>\n",
       "</table>\n",
       "</div>"
      ],
      "text/plain": [
       "               model  total_score  train_quality_score_norm  \\\n",
       "0     on_all_feature         1.00                      1.00   \n",
       "1         10_fs_shap         0.65                      0.64   \n",
       "2  10_fs_permutation         0.59                      0.60   \n",
       "3   10_fs_from_lasso         0.54                      0.41   \n",
       "4     10_fs_nan_corr         0.00                      0.00   \n",
       "\n",
       "   stability_score_rmse_norm  time_score_norm  \n",
       "0                       1.00             1.00  \n",
       "1                       0.43             0.99  \n",
       "2                       0.80             0.26  \n",
       "3                       0.52             0.91  \n",
       "4                       0.00             0.00  "
      ]
     },
     "execution_count": 51,
     "metadata": {},
     "output_type": "execute_result"
    }
   ],
   "source": [
    "models_eval_fs.rank_models()"
   ]
  },
  {
   "cell_type": "code",
   "execution_count": 52,
   "id": "5f8c6f9e",
   "metadata": {},
   "outputs": [],
   "source": [
    "choosing_10 = selected_10_permutation.Feature"
   ]
  },
  {
   "cell_type": "markdown",
   "id": "8894d508",
   "metadata": {},
   "source": [
    "# Hyperparameter optimization"
   ]
  },
  {
   "cell_type": "code",
   "execution_count": 53,
   "id": "e51e9cd7",
   "metadata": {},
   "outputs": [],
   "source": [
    "models_eval_ho = ModelsEval()"
   ]
  },
  {
   "cell_type": "code",
   "execution_count": 54,
   "id": "cc3c7f71",
   "metadata": {},
   "outputs": [],
   "source": [
    "models_eval_ho.fit_model_with_evaluation(\"base_ElasticNet\", X_train, y_train, X_validation, \n",
    "                                         y_validation, X_test, y_test, 0.0, choosing_10, model_class = ElasticNet)"
   ]
  },
  {
   "cell_type": "code",
   "execution_count": 55,
   "id": "ebcd93b5",
   "metadata": {},
   "outputs": [],
   "source": [
    "param_grid = {\n",
    "    'alpha': [0.001, 0.01, 0.1, 0.5, 1.0, 5.0, 10.0],\n",
    "    'l1_ratio': [0.1, 0.25, 0.5, 0.75, 0.9, 1.0]\n",
    "}"
   ]
  },
  {
   "cell_type": "code",
   "execution_count": 56,
   "id": "af343477",
   "metadata": {},
   "outputs": [
    {
     "name": "stdout",
     "output_type": "stream",
     "text": [
      "Best params (Grid): {'alpha': 0.5, 'l1_ratio': 0.75}\n",
      "Best score (Grid): 16254.246118521276\n"
     ]
    }
   ],
   "source": [
    "start_time = time.time()\n",
    "grid = GridSearchCV(ElasticNet(), param_grid, cv=3, minimize=True)\n",
    "grid.fit(X_train[choosing_10].values, y_train.values)\n",
    "print(\"Best params (Grid):\", grid.get_best_params())\n",
    "print(\"Best score (Grid):\", grid.get_best_score())\n",
    "end_time = time.time()\n",
    "training_time = end_time - start_time\n",
    "\n",
    "models_eval_ho.fit_model_with_evaluation(\"best_GridSCV_49\", X_train, y_train, X_validation, \n",
    "                                         y_validation, X_test, y_test, training_time, choosing_10, model_class = ElasticNet,\n",
    "                                         model_params= grid.get_best_params())\n"
   ]
  },
  {
   "cell_type": "code",
   "execution_count": 57,
   "id": "bbd49743",
   "metadata": {},
   "outputs": [],
   "source": [
    "param_distributions = {\n",
    "    'alpha': loguniform(1e-4, 1e2),\n",
    "    'l1_ratio': uniform(0, 1)\n",
    "}"
   ]
  },
  {
   "cell_type": "code",
   "execution_count": 58,
   "id": "e2ef227c",
   "metadata": {},
   "outputs": [
    {
     "name": "stdout",
     "output_type": "stream",
     "text": [
      "Best params (Random): {'alpha': np.float64(5.16317), 'l1_ratio': np.float64(0.9666)}\n",
      "Best score (Random): 16252.482425935224\n"
     ]
    }
   ],
   "source": [
    "start_time = time.time()\n",
    "rand_search = RandomSearchCV(ElasticNet(), param_distributions, n_iter=49,\n",
    "                               cv=3, minimize=True)\n",
    "rand_search.fit(X_train[choosing_10].values, y_train.values)\n",
    "print(\"Best params (Random):\", rand_search.get_best_params())\n",
    "print(\"Best score (Random):\", rand_search.get_best_score())\n",
    "end_time = time.time()\n",
    "training_time = end_time - start_time\n",
    "\n",
    "models_eval_ho.fit_model_with_evaluation(\"best_RandomSCV_49\", X_train, y_train, X_validation, \n",
    "                                         y_validation, X_test, y_test, training_time, choosing_10, model_class = ElasticNet,\n",
    "                                         model_params= rand_search.get_best_params())"
   ]
  },
  {
   "cell_type": "code",
   "execution_count": 59,
   "id": "4f9c82f7",
   "metadata": {},
   "outputs": [],
   "source": [
    "def objective(trial):\n",
    "    params = {\n",
    "    'alpha': trial.suggest_float('alpha', 0.0001, 10.0, log=True),\n",
    "    'l1_ratio': trial.suggest_float('l1_ratio', 0.0, 1.0)\n",
    "}\n",
    "\n",
    "    model = ElasticNet(**params, random_state=random_state)\n",
    "\n",
    "    model.fit(X_train[choosing_10], y_train)\n",
    "    y_pred = model.predict(X_validation[choosing_10])\n",
    "\n",
    "    return root_mean_squared_error(y_validation, y_pred)"
   ]
  },
  {
   "cell_type": "code",
   "execution_count": 60,
   "id": "29221d39",
   "metadata": {},
   "outputs": [],
   "source": [
    "optuna.logging.set_verbosity(optuna.logging.WARNING) "
   ]
  },
  {
   "cell_type": "code",
   "execution_count": 61,
   "id": "d3e0e807",
   "metadata": {},
   "outputs": [
    {
     "name": "stdout",
     "output_type": "stream",
     "text": [
      "Best params: {'alpha': 0.000290300841751118, 'l1_ratio': 0.9997603177859448}\n",
      "Best score: 15900.144185227575\n"
     ]
    }
   ],
   "source": [
    "start_time = time.time()\n",
    "study = optuna.create_study(direction='minimize')\n",
    "study.optimize(objective, n_trials=49)\n",
    "print(\"Best params:\", study.best_params)\n",
    "print(\"Best score:\", study.best_value)\n",
    "end_time = time.time()\n",
    "training_time = end_time - start_time\n",
    "\n",
    "models_eval_ho.fit_model_with_evaluation(\"best_optuna_49\", X_train, y_train, X_validation, \n",
    "                                         y_validation, X_test, y_test, training_time, choosing_10, model_class = ElasticNet,\n",
    "                                         model_params= study.best_params)"
   ]
  },
  {
   "cell_type": "code",
   "execution_count": 62,
   "id": "384093db",
   "metadata": {},
   "outputs": [],
   "source": [
    "def objective_cv(trial):\n",
    "    params = {\n",
    "    'alpha': trial.suggest_float('alpha', 0.0001, 10.0, log=True), \n",
    "    'l1_ratio': trial.suggest_float('l1_ratio', 0.0, 1.0)\n",
    "}\n",
    "\n",
    "    model = ElasticNet(**params, random_state=random_state)\n",
    "\n",
    "    kf = KFold(n_splits=5, shuffle=True, random_state=42)\n",
    "    scores = []\n",
    "\n",
    "    for train_idx, val_idx in kf.split(X_train[choosing_10]):\n",
    "        X_tr, X_val = X_train.values[train_idx], X_train.values[val_idx]\n",
    "        y_tr, y_val = y_train.values[train_idx], y_train.values[val_idx]\n",
    "        model.fit(X_tr, y_tr)\n",
    "        y_pred = model.predict(X_val)\n",
    "        score = root_mean_squared_error(y_val, y_pred)\n",
    "        scores.append(score)\n",
    "\n",
    "    return np.mean(scores)"
   ]
  },
  {
   "cell_type": "code",
   "execution_count": 63,
   "id": "f6124bb2",
   "metadata": {},
   "outputs": [
    {
     "name": "stdout",
     "output_type": "stream",
     "text": [
      "Best params: {'alpha': 0.2976084511893204, 'l1_ratio': 0.5340617563700224}\n",
      "Best score: 13092.561397246322\n"
     ]
    }
   ],
   "source": [
    "start_time = time.time()\n",
    "study = optuna.create_study(direction='minimize')\n",
    "study.optimize(objective_cv, n_trials=49)\n",
    "print(\"Best params:\", study.best_params)\n",
    "print(\"Best score:\", study.best_value)\n",
    "end_time = time.time()\n",
    "training_time = end_time - start_time\n",
    "\n",
    "models_eval_ho.fit_model_with_evaluation(\"best_optunaCV_49\", X_train, y_train, X_validation, \n",
    "                                         y_validation, X_test, y_test, training_time, choosing_10, model_class = ElasticNet,\n",
    "                                         model_params= study.best_params)"
   ]
  },
  {
   "cell_type": "code",
   "execution_count": 64,
   "id": "19845853",
   "metadata": {},
   "outputs": [
    {
     "name": "stdout",
     "output_type": "stream",
     "text": [
      "MAE Results:\n",
      "               model   train     val    test\n",
      "0    base_ElasticNet 1030.00 1114.05  988.06\n",
      "1    best_GridSCV_49 1022.14 1109.79  988.23\n",
      "2  best_RandomSCV_49 1014.75 1101.81  979.16\n",
      "3     best_optuna_49 1106.75 1195.56 1078.22\n",
      "4   best_optunaCV_49 1019.78 1107.29  985.48\n",
      "\n",
      "RMSE Results:\n",
      "               model    train      val     test\n",
      "0    base_ElasticNet 26134.81 15918.57 10883.07\n",
      "1    best_GridSCV_49 26128.43 15907.68 10871.47\n",
      "2  best_RandomSCV_49 26129.58 15910.07 10873.06\n",
      "3     best_optuna_49 26126.01 15900.14 10870.92\n",
      "4   best_optunaCV_49 26128.69 15908.23 10871.84\n",
      "\n",
      "R2 Results (in %):\n",
      "               model  train  val  test\n",
      "0    base_ElasticNet   0.41 1.01  2.26\n",
      "1    best_GridSCV_49   0.46 1.14  2.47\n",
      "2  best_RandomSCV_49   0.45 1.11  2.44\n",
      "3     best_optuna_49   0.48 1.23  2.48\n",
      "4   best_optunaCV_49   0.45 1.13  2.46\n",
      "\n",
      "Find features timing (in sec):\n",
      "               model  find_fs_time\n",
      "0    base_ElasticNet          0.00\n",
      "1    best_GridSCV_49          0.79\n",
      "2  best_RandomSCV_49          1.24\n",
      "3     best_optuna_49          1.13\n",
      "4   best_optunaCV_49          6.81\n"
     ]
    }
   ],
   "source": [
    "models_eval_ho.show_results()"
   ]
  },
  {
   "cell_type": "code",
   "execution_count": 65,
   "id": "0e295892",
   "metadata": {},
   "outputs": [
    {
     "data": {
      "text/html": [
       "<div>\n",
       "<style scoped>\n",
       "    .dataframe tbody tr th:only-of-type {\n",
       "        vertical-align: middle;\n",
       "    }\n",
       "\n",
       "    .dataframe tbody tr th {\n",
       "        vertical-align: top;\n",
       "    }\n",
       "\n",
       "    .dataframe thead th {\n",
       "        text-align: right;\n",
       "    }\n",
       "</style>\n",
       "<table border=\"1\" class=\"dataframe\">\n",
       "  <thead>\n",
       "    <tr style=\"text-align: right;\">\n",
       "      <th></th>\n",
       "      <th>model</th>\n",
       "      <th>total_score</th>\n",
       "      <th>train_quality_score_norm</th>\n",
       "      <th>stability_score_rmse_norm</th>\n",
       "      <th>time_score_norm</th>\n",
       "    </tr>\n",
       "  </thead>\n",
       "  <tbody>\n",
       "    <tr>\n",
       "      <th>0</th>\n",
       "      <td>best_optuna_49</td>\n",
       "      <td>0.77</td>\n",
       "      <td>1.00</td>\n",
       "      <td>0.36</td>\n",
       "      <td>0.83</td>\n",
       "    </tr>\n",
       "    <tr>\n",
       "      <th>1</th>\n",
       "      <td>best_GridSCV_49</td>\n",
       "      <td>0.54</td>\n",
       "      <td>0.73</td>\n",
       "      <td>0.00</td>\n",
       "      <td>0.88</td>\n",
       "    </tr>\n",
       "    <tr>\n",
       "      <th>2</th>\n",
       "      <td>base_ElasticNet</td>\n",
       "      <td>0.50</td>\n",
       "      <td>0.00</td>\n",
       "      <td>1.00</td>\n",
       "      <td>1.00</td>\n",
       "    </tr>\n",
       "    <tr>\n",
       "      <th>3</th>\n",
       "      <td>best_RandomSCV_49</td>\n",
       "      <td>0.49</td>\n",
       "      <td>0.59</td>\n",
       "      <td>0.08</td>\n",
       "      <td>0.82</td>\n",
       "    </tr>\n",
       "    <tr>\n",
       "      <th>4</th>\n",
       "      <td>best_optunaCV_49</td>\n",
       "      <td>0.35</td>\n",
       "      <td>0.70</td>\n",
       "      <td>0.02</td>\n",
       "      <td>0.00</td>\n",
       "    </tr>\n",
       "  </tbody>\n",
       "</table>\n",
       "</div>"
      ],
      "text/plain": [
       "               model  total_score  train_quality_score_norm  \\\n",
       "0     best_optuna_49         0.77                      1.00   \n",
       "1    best_GridSCV_49         0.54                      0.73   \n",
       "2    base_ElasticNet         0.50                      0.00   \n",
       "3  best_RandomSCV_49         0.49                      0.59   \n",
       "4   best_optunaCV_49         0.35                      0.70   \n",
       "\n",
       "   stability_score_rmse_norm  time_score_norm  \n",
       "0                       0.36             0.83  \n",
       "1                       0.00             0.88  \n",
       "2                       1.00             1.00  \n",
       "3                       0.08             0.82  \n",
       "4                       0.02             0.00  "
      ]
     },
     "execution_count": 65,
     "metadata": {},
     "output_type": "execute_result"
    }
   ],
   "source": [
    "models_eval_ho.rank_models()"
   ]
  }
 ],
 "metadata": {
  "kernelspec": {
   "display_name": "jannmart",
   "language": "python",
   "name": "python3"
  },
  "language_info": {
   "codemirror_mode": {
    "name": "ipython",
    "version": 3
   },
   "file_extension": ".py",
   "mimetype": "text/x-python",
   "name": "python",
   "nbconvert_exporter": "python",
   "pygments_lexer": "ipython3",
   "version": "3.12.3"
  }
 },
 "nbformat": 4,
 "nbformat_minor": 5
}
